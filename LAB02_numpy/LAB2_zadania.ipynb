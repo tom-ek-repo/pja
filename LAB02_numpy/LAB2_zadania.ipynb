{
 "cells": [
  {
   "cell_type": "markdown",
   "metadata": {},
   "source": [
    "**Zadanie 1**"
   ]
  },
  {
   "cell_type": "code",
   "execution_count": 21,
   "metadata": {},
   "outputs": [
    {
     "name": "stdout",
     "output_type": "stream",
     "text": [
      "[189 170 189 163 183 171 185 168 173 183 173 173 175 178 183 193 178 173\n",
      " 174 183 183 168 170 178 182 180 183 178 182 188 175 179 183 193 182 183\n",
      " 177 185 188 188 182 185]\n"
     ]
    }
   ],
   "source": [
    "import pandas as pd\n",
    "import numpy as np\n",
    "data = pd.read_csv('president_heights.csv')\n",
    "heights = np.array(data['height(cm)'])\n",
    "print(heights)\n"
   ]
  },
  {
   "cell_type": "code",
   "execution_count": 22,
   "metadata": {},
   "outputs": [
    {
     "name": "stdout",
     "output_type": "stream",
     "text": [
      "Mean height:        179.73809523809524\n",
      "Standard deviation: 6.931843442745892\n",
      "Minimum height:     163\n",
      "Maximum height:     193\n"
     ]
    }
   ],
   "source": [
    "print(\"Mean height:       \", np.mean(heights))\n",
    "print(\"Standard deviation:\", np.std(heights))\n",
    "print(\"Minimum height:    \", np.min(heights))\n",
    "print(\"Maximum height:    \", np.max(heights))\n"
   ]
  },
  {
   "cell_type": "code",
   "execution_count": 23,
   "metadata": {},
   "outputs": [
    {
     "name": "stdout",
     "output_type": "stream",
     "text": [
      "25th percentile:    174.25\n",
      "Median:             182.0\n",
      "75th percentile:    183.0\n"
     ]
    }
   ],
   "source": [
    "print(\"25th percentile:   \", np.percentile(  heights,25) )\n",
    "print(\"Median:            \", np.percentile(  heights,50) )\n",
    "print(\"75th percentile:   \", np.percentile(  heights,75) )\n"
   ]
  },
  {
   "cell_type": "markdown",
   "metadata": {},
   "source": [
    "**Zadanie 2**\n"
   ]
  },
  {
   "cell_type": "code",
   "execution_count": 24,
   "metadata": {},
   "outputs": [],
   "source": [
    "data_2=np.genfromtxt('Zadanie_2.csv', delimiter=';')    "
   ]
  },
  {
   "cell_type": "code",
   "execution_count": 25,
   "metadata": {},
   "outputs": [
    {
     "name": "stdout",
     "output_type": "stream",
     "text": [
      "Compute the (...) eigenvectors of a square array \n",
      " [[-0.29+0.j   -0.08+0.08j -0.08-0.08j -0.04+0.j    0.43+0.j   -0.22-0.3j\n",
      "  -0.22+0.3j   0.41+0.j   -0.29+0.22j -0.29-0.22j]\n",
      " [-0.24+0.j    0.41+0.09j  0.41-0.09j  0.46+0.j   -0.27+0.j   -0.01+0.14j\n",
      "  -0.01-0.14j -0.32+0.j    0.42-0.11j  0.42+0.11j]\n",
      " [-0.41+0.j    0.38-0.01j  0.38+0.01j  0.64+0.j   -0.38+0.j   -0.61+0.j\n",
      "  -0.61-0.j    0.65+0.j    0.64+0.j    0.64-0.j  ]\n",
      " [-0.19+0.j   -0.06+0.17j -0.06-0.17j  0.25+0.j   -0.08+0.j   -0.15-0.01j\n",
      "  -0.15+0.01j  0.15+0.j    0.21+0.j    0.21-0.j  ]\n",
      " [-0.43+0.j    0.48+0.15j  0.48-0.15j  0.39+0.j   -0.7 +0.j    0.07-0.43j\n",
      "   0.07+0.43j -0.26+0.j    0.2 -0.j    0.2 +0.j  ]\n",
      " [-0.15+0.j   -0.57+0.j   -0.57-0.j    0.1 +0.j    0.3 +0.j   -0.05+0.13j\n",
      "  -0.05-0.13j  0.21+0.j   -0.15+0.03j -0.15-0.03j]\n",
      " [-0.35+0.j   -0.14+0.07j -0.14-0.07j -0.05+0.j    0.07+0.j    0.01+0.04j\n",
      "   0.01-0.04j  0.05+0.j   -0.05+0.01j -0.05-0.01j]\n",
      " [-0.35+0.j   -0.08+0.08j -0.08-0.08j  0.26+0.j   -0.1 +0.j   -0.07-0.26j\n",
      "  -0.07+0.26j -0.38+0.j    0.29-0.01j  0.29+0.01j]\n",
      " [-0.24+0.j   -0.14+0.j   -0.14-0.j    0.28+0.j   -0.01+0.j    0.22+0.04j\n",
      "   0.22-0.04j -0.12+0.j    0.28+0.02j  0.28-0.02j]\n",
      " [-0.38+0.j   -0.  +0.03j -0.  -0.03j  0.05+0.j    0.07+0.j    0.18-0.3j\n",
      "   0.18+0.3j  -0.11+0.j    0.03+0.01j  0.03-0.01j]]\n",
      "\n",
      "Compute the eigenvalues of a general matrix \n",
      " [104.35 +0.j   -23.36+18.85j -23.36-18.85j  15.93 +0.j    -4.99 +0.j\n",
      "   0.35 +5.8j    0.35 -5.8j   -1.03 +0.j     3.88 +1.43j   3.88 -1.43j]\n",
      "\n",
      "Inverse matrix [[ 0.47  0.13 -0.25 -0.83  0.28 -0.17  0.58  0.84  0.41 -1.57]\n",
      " [-0.38 -0.11  0.23  0.59 -0.25  0.1  -0.41 -0.58 -0.23  1.12]\n",
      " [ 0.14  0.59 -0.25 -0.59 -0.3  -0.13  0.24  1.01 -0.02 -0.65]\n",
      " [ 0.01  0.15 -0.05 -0.13 -0.09 -0.04  0.04  0.24 -0.01 -0.11]\n",
      " [-0.09  0.02  0.19  0.33 -0.29  0.08 -0.38 -0.27 -0.26  0.75]\n",
      " [ 0.16  0.1  -0.15 -0.3   0.17 -0.03  0.2   0.28  0.15 -0.59]\n",
      " [ 0.04  0.02 -0.04 -0.09  0.04 -0.01  0.06  0.07  0.04 -0.14]\n",
      " [-0.27 -0.21  0.25  0.56 -0.17  0.01 -0.22 -0.53 -0.16  0.77]\n",
      " [-0.16 -0.13  0.1   0.32 -0.1  -0.04 -0.21 -0.18 -0.04  0.46]\n",
      " [-0.06 -0.11  0.09  0.12 -0.    0.02 -0.08 -0.07 -0.11  0.17]]\n"
     ]
    }
   ],
   "source": [
    "np.set_printoptions(precision=2,suppress=True)\n",
    "\t\n",
    "# z numpy doc: \n",
    "print('Compute the (...) eigenvectors of a square array \\n', np.linalg.eig(data_2)[1])\n",
    "# z numpy doc\n",
    "print('\\nCompute the eigenvalues of a general matrix \\n', np.linalg.eigvals(data_2))\n",
    "print(\"\\nInverse matrix\", np.linalg.inv(data_2))"
   ]
  },
  {
   "cell_type": "markdown",
   "metadata": {},
   "source": [
    "**Zadanie 3**"
   ]
  },
  {
   "cell_type": "code",
   "execution_count": 26,
   "metadata": {},
   "outputs": [
    {
     "data": {
      "text/plain": [
       "(365,)"
      ]
     },
     "execution_count": 26,
     "metadata": {},
     "output_type": "execute_result"
    }
   ],
   "source": [
    "import numpy as np\n",
    "import pandas as pd\n",
    "\n",
    "# use pandas to extract rainfall inches as a NumPy array\n",
    "rainfall = pd.read_csv('Seattle2014.csv')['PRCP'].values\n",
    "inches = rainfall / 254.0  # 1/10mm -> inches\n",
    "inches.shape"
   ]
  },
  {
   "cell_type": "code",
   "execution_count": 27,
   "metadata": {},
   "outputs": [
    {
     "name": "stdout",
     "output_type": "stream",
     "text": [
      "Number days without rain:       215\n",
      "Number days with rain:          150\n",
      "Days with more than 0.5 inches: 37\n",
      "Rainy days with < 0.2 inches  : 290\n"
     ]
    }
   ],
   "source": [
    "print(\"Number days without rain:      \", np.sum(inches<=0) )\n",
    "print(\"Number days with rain:         \", np.sum(inches>0) )\n",
    "print(\"Days with more than 0.5 inches:\", np.sum(inches > 0.5))\n",
    "print(\"Rainy days with < 0.2 inches  :\", np.sum(inches[inches>=0]<=0.2) )\n"
   ]
  },
  {
   "cell_type": "code",
   "execution_count": 28,
   "metadata": {},
   "outputs": [
    {
     "name": "stdout",
     "output_type": "stream",
     "text": [
      "Median precip on rainy days in 2014 (inches):    0.0\n",
      "Median precip on summer days in 2014 (inches):   0.0\n",
      "Maximum precip on summer days in 2014 (inches):  0.8503937007874016\n",
      "Median precip on non-summer rainy days (inches): 1.8385826771653544\n"
     ]
    }
   ],
   "source": [
    "print(\"Median precip on rainy days in 2014 (inches):   \", np.median(inches[inches >= 0]))\n",
    "print(\"Median precip on summer days in 2014 (inches):  \", np.median(inches[inches<172] )) \n",
    "print(\"Maximum precip on summer days in 2014 (inches): \", np.max(inches[172:262]))\n",
    "print(\"Median precip on non-summer rainy days (inches):\", np.max(inches[np.concatenate((np.arange(365)[:172], np.arange(365)[262:]))]))\n"
   ]
  },
  {
   "cell_type": "markdown",
   "metadata": {},
   "source": [
    "**Zadanie 4**"
   ]
  },
  {
   "cell_type": "code",
   "execution_count": 29,
   "metadata": {},
   "outputs": [],
   "source": [
    "A = [0,3,2,5]\n",
    "B = [0,3,1,4]"
   ]
  },
  {
   "cell_type": "markdown",
   "metadata": {},
   "source": [
    "$A+B$"
   ]
  },
  {
   "cell_type": "code",
   "execution_count": 30,
   "metadata": {},
   "outputs": [
    {
     "data": {
      "text/plain": [
       "array([0, 6, 3, 9])"
      ]
     },
     "execution_count": 30,
     "metadata": {},
     "output_type": "execute_result"
    }
   ],
   "source": [
    "np.add(A,B)"
   ]
  },
  {
   "cell_type": "markdown",
   "metadata": {},
   "source": [
    "$B-A$"
   ]
  },
  {
   "cell_type": "code",
   "execution_count": 31,
   "metadata": {},
   "outputs": [
    {
     "data": {
      "text/plain": [
       "array([ 0,  0, -1, -1])"
      ]
     },
     "execution_count": 31,
     "metadata": {},
     "output_type": "execute_result"
    }
   ],
   "source": [
    "np.subtract(B,A)"
   ]
  },
  {
   "cell_type": "markdown",
   "metadata": {},
   "source": [
    "$4 \\cdot A $"
   ]
  },
  {
   "cell_type": "code",
   "execution_count": 32,
   "metadata": {},
   "outputs": [
    {
     "data": {
      "text/plain": [
       "array([ 0, 12,  8, 20])"
      ]
     },
     "execution_count": 32,
     "metadata": {},
     "output_type": "execute_result"
    }
   ],
   "source": [
    "np.dot(A,4)"
   ]
  },
  {
   "cell_type": "markdown",
   "metadata": {},
   "source": [
    "$|B|$"
   ]
  },
  {
   "cell_type": "code",
   "execution_count": 33,
   "metadata": {},
   "outputs": [
    {
     "data": {
      "text/plain": [
       "5.0990195135927845"
      ]
     },
     "execution_count": 33,
     "metadata": {},
     "output_type": "execute_result"
    }
   ],
   "source": [
    "np.linalg.norm(B)"
   ]
  },
  {
   "cell_type": "code",
   "execution_count": null,
   "metadata": {},
   "outputs": [],
   "source": []
  }
 ],
 "metadata": {
  "kernelspec": {
   "display_name": "Python 3.8.0 64-bit",
   "language": "python",
   "name": "python3"
  },
  "language_info": {
   "codemirror_mode": {
    "name": "ipython",
    "version": 3
   },
   "file_extension": ".py",
   "mimetype": "text/x-python",
   "name": "python",
   "nbconvert_exporter": "python",
   "pygments_lexer": "ipython3",
   "version": "3.8.0"
  },
  "orig_nbformat": 4,
  "vscode": {
   "interpreter": {
    "hash": "07b005dcef7213d81993ddac2f687ca69d02105fee3a23ef2ff2a2e0f16121cd"
   }
  }
 },
 "nbformat": 4,
 "nbformat_minor": 2
}
