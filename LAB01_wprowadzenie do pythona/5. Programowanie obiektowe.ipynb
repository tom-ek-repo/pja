{
 "cells": [
  {
   "cell_type": "markdown",
   "metadata": {},
   "source": [
    "## Programowanie funkcjonalne a programowanie obiektowe\n",
    "- Większość programów, które wykonałeś do tej pory, działa.\n",
    "- Mówiąc prościej, jest to wprowadzanie danych wejściowych do funkcji, uzyskiwanie danych wyjściowych, a następnie używanie ich jako danych wejściowych do innej funkcji.\n",
    "- W wielu przypadkach nasz kod można uporządkować na poziomie koncepcyjnym, grupując powiązane funkcje w coś, co nazywamy „klasą”.\n",
    "- Klasa jest zbiorem „danych”, które nazywamy atrybutami, oraz „funkcjami”, które nazywamy metodami.\n",
    "- Pojedyncza instancja klasy nazywana jest „obiektem”, a sama czynność jej tworzenia nazywana jest „instancją”.\n",
    "- Powtórzmy, metoda to funkcja powiązana z obiektem, a powiązanie to fakt, że są one częścią tej samej klasy.\n",
    "- Oznacza to, że możemy znacznie łatwiej obsługiwać powtarzalne zadania dla podobnych typów danych, w taki sam sposób, w jaki używamy pętli/funkcji itp."
   ]
  },
  {
   "cell_type": "markdown",
   "metadata": {},
   "source": [
    "Aby zrozumieć tę ideę, najlepiej posłużyć się przykładem:\n",
    "- Wyobraź sobie, że masz sklep i chciałbyś mieć łatwy sposób na przechowywanie wszystkiego, co w nim masz.\n",
    "- Możesz stworzyć klasę StockItem z charakterystyką przedmiotów, taką jak nazwa przedmiotu, ile masz na stanie, cena każdego przedmiotu, w której sekcji znajduje się przedmiot itp.\n",
    "- Możesz również mieć operacje, które elementy mogłyby „wykonywać”, np. odebrać dostawę, sprzedać przedmiot, zmienić jego cenę itp. <br>\n",
    "    1. __CLASS__ definiuje projekt przedmiotu. Sam w sobie nie przechowuje żadnych danych - raczej definiuje strukturę wyglądu __OBIEKTÓW__ używających tej klasy.\n",
    "    2. __OBJECT__ jest __INSTANCJĄ__ z klasy. Tutaj przekazujemy wartości, którymi chcemy zapełnić nasz obiekt. W przypadku klasy StockItem nasz obiekt mógłby mieć nazwę „banan”, z ceną 0,25 i stanem magazynowym 10.\n",
    "    3. Wszelkie operacje, które chcemy wykonać na obiekcie, na przykład zmiana stanu magazynowego, wykonamy __METODĄ__. Metoda to po prostu funkcja dołączona do klasy.\n",
    "    4. Rzeczywiste cechy towaru, takie jak nazwa, stan magazynowy i cena, określane są jako __ATRYBUTY__."
   ]
  },
  {
   "cell_type": "markdown",
   "metadata": {},
   "source": [
    "Mając to na uwadze, przyjrzymy się przykładowi przed rozbiciem składni klas: <br>\n",
    "(Nie martw się słowami takimi jak self, init itp., zostanie to wkrótce wyjaśnione)"
   ]
  },
  {
   "cell_type": "code",
   "execution_count": null,
   "metadata": {},
   "outputs": [],
   "source": [
    "# StockItem is a class\n",
    "class StockItem():\n",
    "    \n",
    "    def __init__(self, item_type, item_price, item_stock_level):\n",
    "        self.item_type = item_type\n",
    "        self.item_price = item_price\n",
    "        self.item_stock_level = item_stock_level\n",
    "        \n",
    "    def change_price(self, new_price):\n",
    "        self.item_price = new_price\n",
    "        \n",
    "    def receive_delivery(self, quantity):\n",
    "        self.item_stock_level += quantity\n",
    "        return \"The new stock level is: {}\".format(self.item_stock_level)"
   ]
  },
  {
   "cell_type": "code",
   "execution_count": null,
   "metadata": {},
   "outputs": [],
   "source": [
    "# apple to obiekt lub instancja StockItem\n",
    "apple = StockItem(\"fruit\", 1.99, 0)"
   ]
  },
  {
   "cell_type": "code",
   "execution_count": null,
   "metadata": {},
   "outputs": [],
   "source": [
    "# .item_type i .item_stock_level to atrybuty\n",
    "print(apple.item_type)\n",
    "print(apple.item_stock_level)"
   ]
  },
  {
   "cell_type": "code",
   "execution_count": null,
   "metadata": {},
   "outputs": [],
   "source": [
    "# .receive_delivery() to metoda\n",
    "apple.receive_delivery(10)"
   ]
  },
  {
   "cell_type": "markdown",
   "metadata": {},
   "source": [
    "## Podstawowa składnia\n",
    "Podstawowa składnia tworzenia klasy jest pokazana poniżej:"
   ]
  },
  {
   "cell_type": "code",
   "execution_count": null,
   "metadata": {},
   "outputs": [],
   "source": [
    "# class definition\n",
    "class ClassName():\n",
    "    \n",
    "    # class constructor\n",
    "    def __init__(self, param1, param2 = 1):\n",
    "        \n",
    "        # attributes\n",
    "        self.param1 = param1\n",
    "        self.param2 = param2\n",
    "        \n",
    "        # attribute defined using other attributes\n",
    "        self.param3 = ClassName.att + param2\n",
    "        \n",
    "        # attribute defined without parameter\n",
    "        self.param4 = 0\n",
    "    \n",
    "    # methods\n",
    "    def some_method(self, ext_input): # can add external arguments\n",
    "        return self.param1 + ext_input + ClassName.att\n",
    "    \n",
    "    def some_other_method(self, ext_input1, ext_input2): # method to modify attribute\n",
    "        self.param4 = ext_input1 + ext_input2"
   ]
  },
  {
   "cell_type": "markdown",
   "metadata": {},
   "source": [
    "Rozłóżmy teraz składnię:\n",
    "\n",
    "#### Definicja klasy\n",
    "1. słowo kluczowe klasy: wskazuje na utworzenie klasy.\n",
    "2. ClassName: użyj PascalCase (bez spacji, słów pisanych wielką literą) do nazywania klas, snake_case dla funkcji/zmiennych.\n",
    "3. Nawiasy/dwukropek: nie potrzebujesz nawiasów, ale dodaj styl, dodaj dwukropek do instrukcji end i wskaż wcięcie.\n",
    "\n",
    "#### Konstruktor klas\n",
    "4. \\_\\_init\\_\\_ jest pierwszą „metodą” w klasie o nazwie konstruktor klasy. Jest to wywoływane automatycznie podczas tworzenia instancji klasy. Zauważ, że słowo kluczowe 'def' jest tym samym co funkcje i ma parametry takie jak funkcje, ALE jest to __METODA__.\n",
    "5. Pierwszym argumentem dla \\_\\_init\\_\\_ jest 'self' zgodnie z konwencją, jest on używany w odniesieniu do każdej instancji klasy (jak Python odróżnia jedną instancję klasy od drugiej).\n",
    "6. Argumenty dla \\_\\_init\\_\\_ definiują wejścia przypisane do każdej instancji klasy.\n",
    "7. Potrafi zdefiniować wartości domyślne dla tych parametrów m.in. param2 = 1, ALE po domyślnych argumentach nie mogą występować argumenty inne niż domyślne.\n",
    "\n",
    "#### Atrybuty\n",
    "8. Atrybuty są przypisywane za pomocą parametrów \\_\\_init\\_\\_ ze standardowym słowem kluczowym.\n",
    "9. Dlatego używamy składni self.param = param do przypisywania atrybutów.\n",
    "10. Atrybuty nie wymagają () przy wywołaniu, ponieważ nie są wykonywalne.\n",
    "11. Możemy zdefiniować atrybuty za pomocą innych atrybutów, jak pokazano za pomocą self.param3.\n",
    "\n",
    "#### Metody\n",
    "12. Metody definiuje się jako funkcje w ramach klasy.\n",
    "13. Wykonują operacje na podstawie danych wejściowych zdefiniowanych przez atrybuty.\n",
    "14. Niezależnie od tego, czy metoda przyjmuje jakiekolwiek parametry zewnętrzne, pierwszym parametrem metody jest zawsze self.\n",
    "15. Odwołując się do atrybutów, musimy odwołać się do instancji: self.param1, NOT param1.\n",
    "16. Metody mogą przyjmować zewnętrzne argumenty, takie jak ext_input: muszą one być określone podczas wywoływania metody.\n",
    "\n",
    "#### Definiowanie atrybutów za pomocą metod\n",
    "17. Możemy mieć atrybuty, które nie są zdefiniowane przez parametry \\_\\_init\\_\\_.\n",
    "18. Można je zdefiniować na przykład jako puste lub zero.\n",
    "19. Możemy je później zdefiniować za pomocą metody.\n",
    "20. Na przykład, some_other_method pobiera ext_input1 i ext_input2 i używa ich do zdefiniowania self.param4."
   ]
  },
  {
   "cell_type": "code",
   "execution_count": null,
   "metadata": {},
   "outputs": [],
   "source": []
  },
  {
   "cell_type": "markdown",
   "metadata": {},
   "source": [
    "## Ćwiczenie\n",
    "Oto przykład, który możesz wypróbować. Spróbuj zdefiniować klasę cylindra. Powinien zawierać: <br>\n",
    "- 2 parametry:\n",
    "     - Wysokość\n",
    "     - promień, który powinien mieć domyślną wartość 1.\n",
    "<br><br>\n",
    "- 4 atrybuty:\n",
    "     - Wysokość\n",
    "     - promień\n",
    "     - powierzchnia_powierzchni, zainicjowana jako Brak.\n",
    "     - głośność, zainicjowana jako Brak.\n",
    "<br><br>\n",
    "- 2 metody:\n",
    "     - get_surface_area:\n",
    "         - zdefiniuj powierzchnię_powierzchni.\n",
    "         - aktualizacja atrybutu powierzchnia_powierzchnia.\n",
    "         - zwróć obszar_powierzchni zaokrąglony do 2dp.\n",
    "     - get_volume:\n",
    "         - zdefiniuj głośność.\n",
    "         - aktualizacja głośności atrybutów.\n",
    "         - objętość powrotu zaokrąglona do 2dp.\n",
    "<br><br>\n",
    "- Użyj Google, aby znaleźć wzory na powierzchnię i objętość cylindra.\n",
    "- Użyj wzorów, aby utworzyć dla nich definicje metod.\n",
    "- Struktura szkieletowa klasy jest przedstawiona poniżej; zastąp komentarze \"KOD TUTAJ\" własnym kodem\n",
    "- Odstępy i wcięcia są ustawione prawidłowo."
   ]
  },
  {
   "cell_type": "code",
   "execution_count": null,
   "metadata": {},
   "outputs": [],
   "source": [
    "# import the math module, use math.pi for pi\n",
    "import math\n",
    "\n",
    "# define a class called Cylinder\n",
    "# CODE HERE\n",
    "\n",
    "    \n",
    "    # define __init__ with parameters height and radius with default 1\n",
    "    # CODE HERE\n",
    "        \n",
    "        # define attributes, initialise surface_area and volume as None\n",
    "        # CODE HERE\n",
    "        # CODE HERE\n",
    "        # CODE HERE\n",
    "        # CODE HERE\n",
    "    \n",
    "    # define get_surface_area method\n",
    "    # CODE HERE\n",
    "        \n",
    "        # assign surface area to variable surface_area\n",
    "        # CODE HERE\n",
    "        \n",
    "        # update attribute surface_area\n",
    "        # CODE HERE\n",
    "        \n",
    "        # return surface area rounded to 2dp\n",
    "        # CODE HERE\n",
    "    \n",
    "    # define get_volume method\n",
    "    # CODE HERE\n",
    "        \n",
    "        # CODE HERE\n",
    "        \n",
    "        # CODE HERE\n",
    "        \n",
    "        # CODE HERE"
   ]
  },
  {
   "cell_type": "markdown",
   "metadata": {},
   "source": [
    "Teraz przetestuj swoją klasę, uruchamiając następujące komórki:"
   ]
  },
  {
   "cell_type": "code",
   "execution_count": null,
   "metadata": {},
   "outputs": [],
   "source": [
    "cyl1 = Cylinder(5,20)"
   ]
  },
  {
   "cell_type": "code",
   "execution_count": null,
   "metadata": {},
   "outputs": [],
   "source": [
    "print(cyl1.height)\n",
    "print(cyl1.radius)"
   ]
  },
  {
   "cell_type": "code",
   "execution_count": null,
   "metadata": {},
   "outputs": [],
   "source": [
    "cyl1.volume\n",
    "cyl1.surface_area"
   ]
  },
  {
   "cell_type": "code",
   "execution_count": null,
   "metadata": {},
   "outputs": [],
   "source": [
    "cyl1.get_surface_area()"
   ]
  },
  {
   "cell_type": "code",
   "execution_count": null,
   "metadata": {},
   "outputs": [],
   "source": [
    "cyl1.get_volume()"
   ]
  },
  {
   "cell_type": "code",
   "execution_count": null,
   "metadata": {},
   "outputs": [],
   "source": [
    "print(cyl1.volume)\n",
    "print(cyl1.surface_area)"
   ]
  },
  {
   "cell_type": "code",
   "execution_count": null,
   "metadata": {},
   "outputs": [],
   "source": []
  },
  {
   "cell_type": "markdown",
   "metadata": {},
   "source": [
    "## Dziedziczenie klas\n",
    "- Możemy używać klas do tworzenia innych klas, nazywa się to __DZIEDZICZENIEM__.\n",
    "- Klasa, której używamy do zdefiniowania, nazywa się __BASE CLASS__.\n",
    "- Zdefiniowana(e) klasa(y) jest(są) nazywana(e) __KLASA(MI) POCHODZĄCA(CYMI)__.\n",
    "- Klasy pochodne „dziedziczą” cechy klasy bazowej.\n",
    "- Możemy utworzyć instancję klasy bazowej za pomocą super() wewnątrz dziedziczonej klasy, aby wywołać jej cechy.\n",
    "- Możemy nadpisać metody odziedziczone, używając tej samej nazwy metody.\n",
    "- Możemy zdefiniować nowe metody używając nowych nazw metod."
   ]
  },
  {
   "cell_type": "code",
   "execution_count": null,
   "metadata": {},
   "outputs": [],
   "source": [
    "# tutaj definiujemy prostą klasę bazową Building bez atrybutów i 1 metody\n",
    "\n",
    "class Building():\n",
    "    \n",
    "    def __init__(self):\n",
    "        print(\"This is a building\")\n",
    "    \n",
    "    def contents(self):\n",
    "        print(\"Things\")"
   ]
  },
  {
   "cell_type": "code",
   "execution_count": null,
   "metadata": {},
   "outputs": [],
   "source": [
    "# tworzymy instancję Building jako x\n",
    "x = Building()"
   ]
  },
  {
   "cell_type": "code",
   "execution_count": null,
   "metadata": {},
   "outputs": [],
   "source": [
    "# x.contents() tutaj daje nam 'rzeczy'\n",
    "x.contents()"
   ]
  },
  {
   "cell_type": "code",
   "execution_count": null,
   "metadata": {},
   "outputs": [],
   "source": [
    "# tutaj używamy Building do zdefiniowania klasy pochodnej House\n",
    "\n",
    "class House(Building): # przekazujemy klasę bazową jako argument\n",
    "    \n",
    "    def __init__(self):\n",
    "        super().__init__() # super(), aby wywołać __init__ z budynku\n",
    "        print(\"This is a house\")\n",
    "        \n",
    "    def contents(self): # nadpisz odziedziczoną metodę Building.contents() przy użyciu tej samej nazwy\n",
    "        print(\"Furniture\")\n",
    "    \n",
    "    def inhabitants(self): #utwórz nową metodę, używając nowej nazwy metody\n",
    "        print(\"People\")"
   ]
  },
  {
   "cell_type": "code",
   "execution_count": null,
   "metadata": {},
   "outputs": [],
   "source": [
    "# tworzymy instancję House jako y\n",
    "# tutaj otrzymujemy wyjście __init__ z budynku ORAZ z domu\n",
    "y = House()"
   ]
  },
  {
   "cell_type": "code",
   "execution_count": null,
   "metadata": {},
   "outputs": [],
   "source": [
    "# kiedy wywołujemy y.contents(), widzimy, że jest nadpisane przez nową definicję\n",
    "y.contents()"
   ]
  },
  {
   "cell_type": "code",
   "execution_count": null,
   "metadata": {},
   "outputs": [],
   "source": [
    "# y ma również nową metodę, .inhabitants()\n",
    "y.inhabitants()"
   ]
  },
  {
   "cell_type": "markdown",
   "metadata": {},
   "source": [
    "## Dalsza lektura\n",
    "Dla zainteresowanych - https://docs.python.org/3/tutorial/classes.html"
   ]
  },
  {
   "cell_type": "code",
   "execution_count": null,
   "metadata": {},
   "outputs": [],
   "source": []
  }
 ],
 "metadata": {
  "kernelspec": {
   "display_name": "Python 3",
   "language": "python",
   "name": "python3"
  },
  "language_info": {
   "codemirror_mode": {
    "name": "ipython",
    "version": 3
   },
   "file_extension": ".py",
   "mimetype": "text/x-python",
   "name": "python",
   "nbconvert_exporter": "python",
   "pygments_lexer": "ipython3",
   "version": "3.7.6"
  }
 },
 "nbformat": 4,
 "nbformat_minor": 4
}
