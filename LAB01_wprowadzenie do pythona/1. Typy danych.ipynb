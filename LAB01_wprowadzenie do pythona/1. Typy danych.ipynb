{
 "cells": [
  {
   "cell_type": "markdown",
   "metadata": {},
   "source": [
    "## Listy"
   ]
  },
  {
   "cell_type": "markdown",
   "metadata": {},
   "source": [
    "- Ważny typ danych w Pythonie.\n",
    "- Oznaczone nawiasami kwadratowymi [].\n",
    "- Przechowuj przedmioty jako zmienną, uporządkowaną sekwencję elementów.\n",
    "- Każdy element na liście jest pozycją.\n",
    "- Wsparcie indeksowania i krojenia.\n",
    "- Może zagnieżdżać listy w sobie."
   ]
  },
  {
   "cell_type": "markdown",
   "metadata": {},
   "source": [
    "### Niektóre definicje\n",
    "- Mutable: można zmienić po utworzeniu (obsługuje dodawanie/usuwanie/zmiany przypisania przedmiotów).\n",
    "- Uporządkowane: jak się wydaje, ma stałą kolejność (kolejność elementów podaną w momencie przypisania) i dlatego może być indeksowane za pomocą liczb.\n",
    "- Stąd lista \\[2,1,3,4\\] nie zostanie przełożona, 2 będzie pierwszym elementem, 1 będzie drugim... itd.\n",
    "- Kolejność elementów: dość oczywista."
   ]
  },
  {
   "cell_type": "code",
   "execution_count": 1,
   "metadata": {},
   "outputs": [],
   "source": [
    "# może mieć wiele typów w jednej kolekcji\n",
    "my_list = [3, \"three\", 3.0, True]"
   ]
  },
  {
   "cell_type": "code",
   "execution_count": 2,
   "metadata": {},
   "outputs": [
    {
     "data": {
      "text/plain": [
       "int"
      ]
     },
     "execution_count": 2,
     "metadata": {},
     "output_type": "execute_result"
    }
   ],
   "source": [
    "# może użyć funkcji type() do sprawdzenia typu danych obiektu\n",
    "type(3)"
   ]
  },
  {
   "cell_type": "code",
   "execution_count": 3,
   "metadata": {},
   "outputs": [
    {
     "data": {
      "text/plain": [
       "str"
      ]
     },
     "execution_count": 3,
     "metadata": {},
     "output_type": "execute_result"
    }
   ],
   "source": [
    "type(\"three\")"
   ]
  },
  {
   "cell_type": "code",
   "execution_count": 4,
   "metadata": {},
   "outputs": [
    {
     "data": {
      "text/plain": [
       "float"
      ]
     },
     "execution_count": 4,
     "metadata": {},
     "output_type": "execute_result"
    }
   ],
   "source": [
    "type(3.0)"
   ]
  },
  {
   "cell_type": "code",
   "execution_count": 5,
   "metadata": {},
   "outputs": [
    {
     "data": {
      "text/plain": [
       "bool"
      ]
     },
     "execution_count": 5,
     "metadata": {},
     "output_type": "execute_result"
    }
   ],
   "source": [
    "type(True)"
   ]
  },
  {
   "cell_type": "code",
   "execution_count": 6,
   "metadata": {},
   "outputs": [
    {
     "data": {
      "text/plain": [
       "list"
      ]
     },
     "execution_count": 6,
     "metadata": {},
     "output_type": "execute_result"
    }
   ],
   "source": [
    "type(my_list)"
   ]
  },
  {
   "cell_type": "markdown",
   "metadata": {},
   "source": [
    "### Indexing and Slicing"
   ]
  },
  {
   "cell_type": "markdown",
   "metadata": {},
   "source": [
    "W Pythonie slicing:\n",
    "\n",
    "- Zaczyna się od 0 (zero).\n",
    "- Obejmuje dolną granicę (włącznie).\n",
    "- Wyłącza się w górnej granicy (do, ale nie wliczając)."
   ]
  },
  {
   "cell_type": "code",
   "execution_count": 7,
   "metadata": {},
   "outputs": [
    {
     "data": {
      "text/plain": [
       "[3, 'three', 3.0, True]"
      ]
     },
     "execution_count": 7,
     "metadata": {},
     "output_type": "execute_result"
    }
   ],
   "source": [
    "my_list = [3, \"three\", 3.0, True]\n",
    "my_list"
   ]
  },
  {
   "cell_type": "code",
   "execution_count": 8,
   "metadata": {},
   "outputs": [
    {
     "data": {
      "text/plain": [
       "3"
      ]
     },
     "execution_count": 8,
     "metadata": {},
     "output_type": "execute_result"
    }
   ],
   "source": [
    "# Index 0 zwraca 1 element\n",
    "my_list[0]"
   ]
  },
  {
   "cell_type": "code",
   "execution_count": 9,
   "metadata": {},
   "outputs": [
    {
     "data": {
      "text/plain": [
       "['three', 3.0]"
      ]
     },
     "execution_count": 9,
     "metadata": {},
     "output_type": "execute_result"
    }
   ],
   "source": [
    "# Użyj dwukropka, aby wskazać wycinek, 1:3 zwraca 2 i 3 pozycję, ale nie 4\n",
    "my_list[1:3]"
   ]
  },
  {
   "cell_type": "code",
   "execution_count": 10,
   "metadata": {},
   "outputs": [
    {
     "data": {
      "text/plain": [
       "['three', 3.0, True]"
      ]
     },
     "execution_count": 10,
     "metadata": {},
     "output_type": "execute_result"
    }
   ],
   "source": [
    "# Brak górnej granicy zaczyna się od wskazanego pierwszego indeksu i daje wszystko poza pierwszym indeksem\n",
    "my_list[1:]"
   ]
  },
  {
   "cell_type": "code",
   "execution_count": 11,
   "metadata": {},
   "outputs": [
    {
     "data": {
      "text/plain": [
       "[3, 'three', 3.0]"
      ]
     },
     "execution_count": 11,
     "metadata": {},
     "output_type": "execute_result"
    }
   ],
   "source": [
    "# Brak dolnej granicy zaczyna się od indeksu 0, aż do górnej granicy, której ale nie obejmuje\n",
    "my_list[:3]"
   ]
  },
  {
   "cell_type": "code",
   "execution_count": 12,
   "metadata": {},
   "outputs": [
    {
     "data": {
      "text/plain": [
       "[3, 'THREE', 3.0, True]"
      ]
     },
     "execution_count": 12,
     "metadata": {},
     "output_type": "execute_result"
    }
   ],
   "source": [
    "# może zmienić przypisanie elementów na listach do nowych wartości\n",
    "my_list[1] = my_list[1].upper()\n",
    "my_list"
   ]
  },
  {
   "cell_type": "code",
   "execution_count": 13,
   "metadata": {},
   "outputs": [
    {
     "data": {
      "text/plain": [
       "[3, 'THREE', 3.0, True, 'new item']"
      ]
     },
     "execution_count": 13,
     "metadata": {},
     "output_type": "execute_result"
    }
   ],
   "source": [
    "# Może dodawać listy, nie zmieniając oryginalnej listy\n",
    "my_list + ['new item']"
   ]
  },
  {
   "cell_type": "code",
   "execution_count": 14,
   "metadata": {},
   "outputs": [
    {
     "data": {
      "text/plain": [
       "[3, 'THREE', 3.0, True, 'add new item permanently']"
      ]
     },
     "execution_count": 14,
     "metadata": {},
     "output_type": "execute_result"
    }
   ],
   "source": [
    "# aby zmienić pierwszą listę zmianę należy przypisać\n",
    "my_list = my_list + ['add new item permanently']\n",
    "\n",
    "my_list"
   ]
  },
  {
   "cell_type": "code",
   "execution_count": 15,
   "metadata": {},
   "outputs": [
    {
     "data": {
      "text/plain": [
       "[3,\n",
       " 'THREE',\n",
       " 3.0,\n",
       " True,\n",
       " 'add new item permanently',\n",
       " 3,\n",
       " 'THREE',\n",
       " 3.0,\n",
       " True,\n",
       " 'add new item permanently']"
      ]
     },
     "execution_count": 15,
     "metadata": {},
     "output_type": "execute_result"
    }
   ],
   "source": [
    "#Mnożenie\n",
    "my_list * 2"
   ]
  },
  {
   "cell_type": "code",
   "execution_count": 16,
   "metadata": {},
   "outputs": [
    {
     "data": {
      "text/plain": [
       "[[1, 2, 3], [4, 5, 6], [7, 8, 9]]"
      ]
     },
     "execution_count": 16,
     "metadata": {},
     "output_type": "execute_result"
    }
   ],
   "source": [
    "# Listy mogą być pozycją na liście\n",
    "# Listy w listach są nazywane zagnieżdżonymi\n",
    "lst_1=[1,2,3]\n",
    "lst_2=[4,5,6]\n",
    "lst_3=[7,8,9]\n",
    "\n",
    "# Zrób listę list, aby utworzyć zagnieżdżoną listę\n",
    "nest_list = [lst_1,lst_2,lst_3]\n",
    "nest_list"
   ]
  },
  {
   "cell_type": "code",
   "execution_count": 17,
   "metadata": {},
   "outputs": [
    {
     "data": {
      "text/plain": [
       "5"
      ]
     },
     "execution_count": 17,
     "metadata": {},
     "output_type": "execute_result"
    }
   ],
   "source": [
    "nest_list[1][1]"
   ]
  },
  {
   "cell_type": "markdown",
   "metadata": {},
   "source": [
    "### Funkcje i metody list"
   ]
  },
  {
   "cell_type": "code",
   "execution_count": 18,
   "metadata": {},
   "outputs": [
    {
     "data": {
      "text/plain": [
       "5"
      ]
     },
     "execution_count": 18,
     "metadata": {},
     "output_type": "execute_result"
    }
   ],
   "source": [
    "# użyj funkcji len() do sprawdzenia długości\n",
    "len(my_list)"
   ]
  },
  {
   "cell_type": "code",
   "execution_count": 19,
   "metadata": {},
   "outputs": [
    {
     "name": "stdout",
     "output_type": "stream",
     "text": [
      "1\n",
      "9\n"
     ]
    }
   ],
   "source": [
    "# użyj min() i max(), aby znaleźć najwyższą i najniższą pozycję na listach\n",
    "# działa w kolejności alfabetycznej z ciągami znaków\n",
    "new_list = [1,2,3,4,5,6,7,8,9]\n",
    "\n",
    "print(min(new_list))\n",
    "print(max(new_list))"
   ]
  },
  {
   "cell_type": "markdown",
   "metadata": {},
   "source": [
    "#### .append() kontra .extend()\n",
    "- .append() dodaje pozycje na końcu listy.\n",
    "- .extend() dodaje pozycje z listy (lub innej iterowalnej) pozycji na końcu listy.\n",
    "- Różnicę w dodatku widzimy poniżej."
   ]
  },
  {
   "cell_type": "code",
   "execution_count": 20,
   "metadata": {},
   "outputs": [
    {
     "data": {
      "text/plain": [
       "[3, 'THREE', 3.0, True, 'add new item permanently', [1, 2, 3]]"
      ]
     },
     "execution_count": 20,
     "metadata": {},
     "output_type": "execute_result"
    }
   ],
   "source": [
    "# dodaj elementy metodą .append()\n",
    "\n",
    "my_list.append([1,2,3])\n",
    "\n",
    "my_list"
   ]
  },
  {
   "cell_type": "code",
   "execution_count": 21,
   "metadata": {},
   "outputs": [
    {
     "data": {
      "text/plain": [
       "[3, 'THREE', 3.0, True, 'add new item permanently', [1, 2, 3], 1, 2, 3]"
      ]
     },
     "execution_count": 21,
     "metadata": {},
     "output_type": "execute_result"
    }
   ],
   "source": [
    "# dodaj elementy w iterowalnej pozycji za pomocą metody .extend()\n",
    "\n",
    "my_list.extend([1,2,3])\n",
    "\n",
    "my_list"
   ]
  },
  {
   "cell_type": "code",
   "execution_count": 22,
   "metadata": {},
   "outputs": [
    {
     "data": {
      "text/plain": [
       "3"
      ]
     },
     "execution_count": 22,
     "metadata": {},
     "output_type": "execute_result"
    }
   ],
   "source": [
    "# użyj metody .pop, aby usunąć i zwrócić ostatni element\n",
    "my_list.pop()"
   ]
  },
  {
   "cell_type": "code",
   "execution_count": 23,
   "metadata": {},
   "outputs": [
    {
     "data": {
      "text/plain": [
       "'THREE'"
      ]
     },
     "execution_count": 23,
     "metadata": {},
     "output_type": "execute_result"
    }
   ],
   "source": [
    "# można użyć indeksu, domyślny indeks -1\n",
    "my_list.pop(1)"
   ]
  },
  {
   "cell_type": "code",
   "execution_count": 24,
   "metadata": {},
   "outputs": [
    {
     "data": {
      "text/plain": [
       "2"
      ]
     },
     "execution_count": 24,
     "metadata": {},
     "output_type": "execute_result"
    }
   ],
   "source": [
    "# zwrócony element można przypisać do zmiennej\n",
    "popped_item = my_list.pop()\n",
    "\n",
    "popped_item"
   ]
  },
  {
   "cell_type": "code",
   "execution_count": 25,
   "metadata": {},
   "outputs": [],
   "source": [
    "# użyj metody .sort() do sortowania listy, zmienia oryginalną listę, bez zwracanej wartości\n",
    "\n",
    "let_list = [\"a\", \"d\", \"v\", \"x\", \"g\"]\n",
    "\n",
    "num_list = [13,42,4,24,2,46,3,7]"
   ]
  },
  {
   "cell_type": "code",
   "execution_count": 26,
   "metadata": {},
   "outputs": [],
   "source": [
    "let_list.sort()\n",
    "num_list.sort()"
   ]
  },
  {
   "cell_type": "code",
   "execution_count": 27,
   "metadata": {},
   "outputs": [
    {
     "name": "stdout",
     "output_type": "stream",
     "text": [
      "['a', 'd', 'g', 'v', 'x']\n",
      "[2, 3, 4, 7, 13, 24, 42, 46]\n"
     ]
    }
   ],
   "source": [
    "print(let_list)\n",
    "print(num_list)"
   ]
  },
  {
   "cell_type": "code",
   "execution_count": 28,
   "metadata": {},
   "outputs": [
    {
     "name": "stdout",
     "output_type": "stream",
     "text": [
      "[46, 42, 24, 13, 7, 4, 3, 2]\n"
     ]
    }
   ],
   "source": [
    "# użyj metody .reverse() do odwrócenia listy\n",
    "num_list.reverse()\n",
    "\n",
    "print(num_list)"
   ]
  },
  {
   "cell_type": "code",
   "execution_count": 29,
   "metadata": {},
   "outputs": [
    {
     "data": {
      "text/plain": [
       "'This is a sentence.'"
      ]
     },
     "execution_count": 29,
     "metadata": {},
     "output_type": "execute_result"
    }
   ],
   "source": [
    "# użyj \"sep\".join(list), aby dołączyć do listy ciągów za pomocą separatora\n",
    "\n",
    "list_of_strings = [\"This\", \"is\", \"a\", \"sentence.\"]\n",
    "\n",
    "\" \".join(list_of_strings)"
   ]
  },
  {
   "cell_type": "code",
   "execution_count": null,
   "metadata": {},
   "outputs": [],
   "source": []
  },
  {
   "cell_type": "markdown",
   "metadata": {},
   "source": [
    "## Listy Ćwiczenia"
   ]
  },
  {
   "cell_type": "markdown",
   "metadata": {},
   "source": [
    "### Pytanie 1:\n",
    "Napisz program, który sprawdzi, czy dwa słowa w dwuwyrazowym ciągu zaczynają się od tej samej litery. <br>\n",
    "Skopiuj i wklej (i nieznacznie zmodyfikuj) swój kod, aby wypróbować go w obu przypadkach."
   ]
  },
  {
   "cell_type": "code",
   "execution_count": 30,
   "metadata": {},
   "outputs": [],
   "source": [
    "phrase1 = 'Clean Couch'\n",
    "\n",
    "# CODE HERE"
   ]
  },
  {
   "cell_type": "code",
   "execution_count": 31,
   "metadata": {},
   "outputs": [],
   "source": [
    "phrase2 = 'Giant Table'\n",
    "\n",
    "# CODE HERE"
   ]
  },
  {
   "cell_type": "markdown",
   "metadata": {},
   "source": [
    "### Pytanie 2:\n",
    "Napisz program, który zwraca ciąg znaków z odwróconymi __słowami__.\n",
    "Jeszcze raz spróbuj wykonać tę samą operację z obydwoma przypadkami testowymi."
   ]
  },
  {
   "cell_type": "code",
   "execution_count": 32,
   "metadata": {},
   "outputs": [],
   "source": [
    "my_string1 = 'This is a short phrase'\n",
    "\n",
    "# CODE HERE"
   ]
  },
  {
   "cell_type": "code",
   "execution_count": 33,
   "metadata": {},
   "outputs": [],
   "source": [
    "my_string2 = 'This is actually a significantly longer phrase than the previous one'\n",
    "\n",
    "# CODE HERE"
   ]
  },
  {
   "cell_type": "markdown",
   "metadata": {},
   "source": [
    "## Krótkie wprowadzenie do zbiorów"
   ]
  },
  {
   "cell_type": "markdown",
   "metadata": {},
   "source": [
    "- Zbiory są typem danych w Pythonie.\n",
    "- Przestrzegają zasad zbiorów matematycznych, które powinieneś już znać.\n",
    "- Są zmienne i nieuporządkowane i nie zawierają powtarzających się elementów (elementy są unikalne).\n",
    "- Oznacza to, że jednym z przydatnych zastosowań zestawu jest znalezienie wszystkich unikalnych przedmiotów na liście, jak widać poniżej.\n",
    "- Zbiory mają też swoje własne metody, z operacjami znanymi ze zbiorów matematycznych."
   ]
  },
  {
   "cell_type": "code",
   "execution_count": 34,
   "metadata": {},
   "outputs": [
    {
     "name": "stdout",
     "output_type": "stream",
     "text": [
      "{1, 2, 3, 4, 5, 6, 55}\n"
     ]
    }
   ],
   "source": [
    "# może zwracać unikalne pozycje na liście przez rzutowanie listy do ustawienia za pomocą funkcji set()\n",
    "long_list = [1,1,1,1,2,3,3,4,5,5,4,4,5,5,6,6,5,55,5,5,5,5]\n",
    "\n",
    "set_of_list = set(long_list)\n",
    "\n",
    "print(set_of_list)"
   ]
  },
  {
   "cell_type": "code",
   "execution_count": 35,
   "metadata": {},
   "outputs": [
    {
     "name": "stdout",
     "output_type": "stream",
     "text": [
      "set()\n",
      "{1}\n",
      "{1, 2}\n"
     ]
    }
   ],
   "source": [
    "# tworzymy zestawy, najpierw tworząc pusty zestaw, a następnie używając .add(), aby go dodać\n",
    "set_x = set()\n",
    "\n",
    "print(set_x)\n",
    "\n",
    "set_x.add(1)\n",
    "\n",
    "print(set_x)\n",
    "\n",
    "set_x.add(2)\n",
    "\n",
    "print(set_x)"
   ]
  },
  {
   "cell_type": "code",
   "execution_count": 36,
   "metadata": {},
   "outputs": [
    {
     "name": "stdout",
     "output_type": "stream",
     "text": [
      "{1, 2}\n",
      "{1, 2}\n"
     ]
    }
   ],
   "source": [
    "# jeśli dodamy 1 ponownie, zobaczymy, że zestaw się nie zmienia, ponieważ elementy w zestawie są unikalne\n",
    "print(set_x)\n",
    "\n",
    "set_x.add(1)\n",
    "\n",
    "print(set_x)"
   ]
  },
  {
   "cell_type": "code",
   "execution_count": 37,
   "metadata": {},
   "outputs": [
    {
     "data": {
      "text/plain": [
       "{1, 2, 3, 4, 5, 6, 55}"
      ]
     },
     "execution_count": 37,
     "metadata": {},
     "output_type": "execute_result"
    }
   ],
   "source": [
    "# .union() znajduje unię (unię matematyczną) jednego zestawu i drugiego\n",
    "set_x.union(set_of_list)"
   ]
  },
  {
   "cell_type": "code",
   "execution_count": 38,
   "metadata": {},
   "outputs": [
    {
     "name": "stdout",
     "output_type": "stream",
     "text": [
      "{1, 2}\n",
      "{1, 2, 3, 4, 5, 6, 55}\n",
      "{1, 2, 3, 4, 5, 6, 55}\n"
     ]
    }
   ],
   "source": [
    "# .update() aktualizuje zestaw za pomocą unii tego i innego zestawu\n",
    "print(set_x)\n",
    "\n",
    "print(set_of_list)\n",
    "\n",
    "set_x.update(set_of_list)\n",
    "\n",
    "print(set_x)"
   ]
  },
  {
   "cell_type": "code",
   "execution_count": 39,
   "metadata": {},
   "outputs": [
    {
     "data": {
      "text/plain": [
       "{3, 4, 5, 6, 55}"
      ]
     },
     "execution_count": 39,
     "metadata": {},
     "output_type": "execute_result"
    }
   ],
   "source": [
    "# a.difference(b) zwraca elementy w a, które NIE znajdują się w b\n",
    "set_x = set()\n",
    "set_x.add(1)\n",
    "set_x.add(2)\n",
    "\n",
    "set_of_list.difference(set_x)"
   ]
  },
  {
   "cell_type": "markdown",
   "metadata": {},
   "source": [
    "- Nie będziemy ich tutaj omawiać, ale więcej informacji jest dostępnych pod adresem:\n",
    "https://docs.python.org/3/library/stdtypes.html#set"
   ]
  },
  {
   "cell_type": "markdown",
   "metadata": {},
   "source": [
    "## Słowniki"
   ]
  },
  {
   "cell_type": "markdown",
   "metadata": {},
   "source": [
    "- Słowniki to __nieuporządkowane__ kolekcje par klucz:wartość.\n",
    "— Klucze muszą być ciągami (może być dowolnym niezmiennym typem, ale najlepiej jest używać ciągów).\n",
    "- Wartości mogą być dowolnym typem danych, w tym samymi słownikami (zagnieżdżanie).\n",
    "- Indeksowane za pomocą kluczy."
   ]
  },
  {
   "cell_type": "code",
   "execution_count": 40,
   "metadata": {},
   "outputs": [
    {
     "name": "stdout",
     "output_type": "stream",
     "text": [
      "{'k2': 123, 'k1': [0, 1, 2], 'k4': {'insidekey': [100, 200]}}\n"
     ]
    }
   ],
   "source": [
    "# elastyczność przypisywania danych m.in. listy i podsłowniki\n",
    "d = {'k2':123, 'k1':[0,1,2], 'k4':{'insidekey':[100,200]}}\n",
    "\n",
    "print(d)"
   ]
  },
  {
   "cell_type": "code",
   "execution_count": 41,
   "metadata": {},
   "outputs": [
    {
     "data": {
      "text/plain": [
       "200"
      ]
     },
     "execution_count": 41,
     "metadata": {},
     "output_type": "execute_result"
    }
   ],
   "source": [
    "# indeksowanie odbywa się sekwencyjnie\n",
    "d['k4']['insidekey'][1]"
   ]
  },
  {
   "cell_type": "code",
   "execution_count": 42,
   "metadata": {},
   "outputs": [
    {
     "name": "stdout",
     "output_type": "stream",
     "text": [
      "C\n"
     ]
    }
   ],
   "source": [
    "# odwołania do słownika\n",
    "d1 = {'k1':[\"a\", \"b\", \"c\"]}\n",
    "\n",
    "print(d1['k1'][2].upper())"
   ]
  },
  {
   "cell_type": "code",
   "execution_count": 43,
   "metadata": {},
   "outputs": [
    {
     "name": "stdout",
     "output_type": "stream",
     "text": [
      "C\n",
      "C\n"
     ]
    }
   ],
   "source": [
    "# obie te metody dają ten sam wynik\n",
    "print(d1['k1'][2].upper())\n",
    "\n",
    "x = d1['k1'][2]\n",
    "print(x.upper())"
   ]
  },
  {
   "cell_type": "code",
   "execution_count": 44,
   "metadata": {},
   "outputs": [
    {
     "name": "stdout",
     "output_type": "stream",
     "text": [
      "{'k2': 123, 'k1': 'VALUE', 'k4': {'insidekey': [100, 200]}, 'k7': 'NEW'}\n"
     ]
    }
   ],
   "source": [
    "# dodaj, przypisując nową parę, ponownie przypisz\n",
    "d[\"k7\"] = \"NEW\"\n",
    "\n",
    "d[\"k1\"] = \"VALUE\"\n",
    "\n",
    "print(d)"
   ]
  },
  {
   "cell_type": "code",
   "execution_count": 45,
   "metadata": {},
   "outputs": [
    {
     "name": "stdout",
     "output_type": "stream",
     "text": [
      "dict_keys(['k2', 'k1', 'k4', 'k7'])\n",
      "\n",
      "dict_values([123, 'VALUE', {'insidekey': [100, 200]}, 'NEW'])\n",
      "\n",
      "dict_items([('k2', 123), ('k1', 'VALUE'), ('k4', {'insidekey': [100, 200]}), ('k7', 'NEW')])\n"
     ]
    }
   ],
   "source": [
    "# wywołaj wszystkie klucze/wartości/pary za pomocą metod .keys / .values / .items, .items zwraca krotki\n",
    "print(d.keys())\n",
    "print()\n",
    "print(d.values())\n",
    "print()\n",
    "print(d.items())"
   ]
  },
  {
   "cell_type": "code",
   "execution_count": 46,
   "metadata": {},
   "outputs": [],
   "source": [
    "# użyj in, aby sprawdzić, czy element jest iterowalny\n",
    "d1 = {\"k1\": 10, \"k2\":[1,2,3], \"k3\":345}"
   ]
  },
  {
   "cell_type": "code",
   "execution_count": 47,
   "metadata": {},
   "outputs": [
    {
     "data": {
      "text/plain": [
       "True"
      ]
     },
     "execution_count": 47,
     "metadata": {},
     "output_type": "execute_result"
    }
   ],
   "source": [
    "\"k2\" in d1"
   ]
  },
  {
   "cell_type": "code",
   "execution_count": 48,
   "metadata": {},
   "outputs": [
    {
     "data": {
      "text/plain": [
       "False"
      ]
     },
     "execution_count": 48,
     "metadata": {},
     "output_type": "execute_result"
    }
   ],
   "source": [
    "345 in d1"
   ]
  },
  {
   "cell_type": "code",
   "execution_count": 49,
   "metadata": {},
   "outputs": [
    {
     "data": {
      "text/plain": [
       "True"
      ]
     },
     "execution_count": 49,
     "metadata": {},
     "output_type": "execute_result"
    }
   ],
   "source": [
    "345 in d1.values()"
   ]
  },
  {
   "cell_type": "code",
   "execution_count": 50,
   "metadata": {},
   "outputs": [
    {
     "data": {
      "text/plain": [
       "False"
      ]
     },
     "execution_count": 50,
     "metadata": {},
     "output_type": "execute_result"
    }
   ],
   "source": [
    "345 in d1.keys()"
   ]
  },
  {
   "cell_type": "markdown",
   "metadata": {},
   "source": [
    "## Krotki"
   ]
  },
  {
   "cell_type": "markdown",
   "metadata": {},
   "source": [
    "- Krotki są jak listy: elastyczne wprowadzanie danych.\n",
    "- Ale są niezmienne: nie można ich zmienić po utworzeniu.\n",
    "- W związku z tym nie ma metod dołączania/wydłużania/usuwania/wyskakiwania ani ponownego przypisywania elementów dla krotek.\n",
    "- Przydatne do przechowywania wartości w danych, których nie chcesz przypadkowo przypisać ponownie."
   ]
  },
  {
   "cell_type": "code",
   "execution_count": 51,
   "metadata": {},
   "outputs": [],
   "source": [
    "# niezmienne, ale elastyczne wprowadzanie danych\n",
    "t = (1,2,3)\n",
    "t1 = (1, \"two\", 3)\n",
    "t2 = (\"a\", \"a\", \"b\")"
   ]
  },
  {
   "cell_type": "code",
   "execution_count": 52,
   "metadata": {},
   "outputs": [
    {
     "data": {
      "text/plain": [
       "tuple"
      ]
     },
     "execution_count": 52,
     "metadata": {},
     "output_type": "execute_result"
    }
   ],
   "source": [
    "type(t) "
   ]
  },
  {
   "cell_type": "code",
   "execution_count": 53,
   "metadata": {},
   "outputs": [
    {
     "data": {
      "text/plain": [
       "True"
      ]
     },
     "execution_count": 53,
     "metadata": {},
     "output_type": "execute_result"
    }
   ],
   "source": [
    "# może użyć w operatorze, aby sprawdzić, czy element jest w krotce\n",
    "1 in t1"
   ]
  },
  {
   "cell_type": "code",
   "execution_count": 54,
   "metadata": {},
   "outputs": [
    {
     "ename": "AttributeError",
     "evalue": "'tuple' object has no attribute 'pop'",
     "output_type": "error",
     "traceback": [
      "\u001b[1;31m---------------------------------------------------------------------------\u001b[0m",
      "\u001b[1;31mAttributeError\u001b[0m                            Traceback (most recent call last)",
      "Cell \u001b[1;32mIn [54], line 1\u001b[0m\n\u001b[1;32m----> 1\u001b[0m t1\u001b[39m.\u001b[39mpop()\n",
      "\u001b[1;31mAttributeError\u001b[0m: 'tuple' object has no attribute 'pop'"
     ]
    }
   ],
   "source": [
    "t1.pop()"
   ]
  },
  {
   "cell_type": "code",
   "execution_count": null,
   "metadata": {},
   "outputs": [],
   "source": [
    "t1[1] = \"ten\""
   ]
  },
  {
   "cell_type": "code",
   "execution_count": null,
   "metadata": {},
   "outputs": [],
   "source": [
    "# sprawdź długość za pomocą funkcji len()\n",
    "len(t)\n",
    "print(\"The length of the tuple is {x}\".format(x=len(t)))"
   ]
  },
  {
   "cell_type": "code",
   "execution_count": null,
   "metadata": {},
   "outputs": [],
   "source": [
    "# liczenie instancji przy użyciu metody .count()\n",
    "t2.count(\"a\")\n",
    "print(\"a occurs {x} times in the tuple\".format(x=t2.count(\"a\")))"
   ]
  },
  {
   "cell_type": "code",
   "execution_count": null,
   "metadata": {},
   "outputs": [],
   "source": [
    "# znajdź pierwszy indeks za pomocą metody .index()\n",
    "t2.index(\"a\")\n",
    "print(\"a occurs first at index {x} in the tuple\".format(x=t2.index(\"a\")))"
   ]
  },
  {
   "cell_type": "markdown",
   "metadata": {},
   "source": [
    "### Pakowanie i rozpakowywanie krotek"
   ]
  },
  {
   "cell_type": "markdown",
   "metadata": {},
   "source": [
    "- Jednym z najpotężniejszych aspektów krotek jest technika zwana rozpakowywaniem krotek.\n",
    "- To pozwala nam przypisywać zmienne za pomocą przecinków z pojedynczej krotki w kolejności.\n",
    "- Składnia działa jak poniżej, chociaż nawiasy można pominąć, chyba że wymagane jest, aby były jasne."
   ]
  },
  {
   "cell_type": "markdown",
   "metadata": {},
   "source": [
    "Python automatycznie „rozpakowuje” krotkę, wybiera wartości i przypisuje je do zmiennych oddzielonych przecinkami:"
   ]
  },
  {
   "cell_type": "code",
   "execution_count": null,
   "metadata": {},
   "outputs": [],
   "source": [
    "a, b, c = (1, 2, 3)\n",
    "\n",
    "print(a)\n",
    "print(b)\n",
    "print(c)"
   ]
  },
  {
   "cell_type": "markdown",
   "metadata": {},
   "source": [
    "Możemy również przypisać krotkę do zmiennej i wykonać rozpakowanie krotki na zmiennej:"
   ]
  },
  {
   "cell_type": "code",
   "execution_count": null,
   "metadata": {},
   "outputs": [],
   "source": [
    "t1 = (1,2,3)\n",
    "\n",
    "a, b, c = t1\n",
    "\n",
    "print(a)\n",
    "print(b)\n",
    "print(c)"
   ]
  },
  {
   "cell_type": "markdown",
   "metadata": {},
   "source": [
    "Tutaj, nawiasy są implikowane, Python wykonuje operację rozpakowywania krotek w ten sam sposób „pod maską”. <br>\n",
    "Ta notacja przecinkowa jest przydatnym skrótem do przypisywania wielu zmiennych:"
   ]
  },
  {
   "cell_type": "code",
   "execution_count": null,
   "metadata": {},
   "outputs": [],
   "source": [
    "a, b, c = 1, 2, 3\n",
    "\n",
    "print(a)\n",
    "print(b)\n",
    "print(c)"
   ]
  },
  {
   "cell_type": "markdown",
   "metadata": {},
   "source": [
    "Krotki można również pakować w ten sam sposób. Ponownie przydatne w przypadku przypisania wielu zmiennych:"
   ]
  },
  {
   "cell_type": "code",
   "execution_count": null,
   "metadata": {},
   "outputs": [],
   "source": [
    "print(a)\n",
    "print(b)\n",
    "print(c)\n",
    "\n",
    "t1 = a, b, c\n",
    "\n",
    "print(t1)"
   ]
  },
  {
   "cell_type": "markdown",
   "metadata": {},
   "source": [
    "## Boole'a i operatory porównania"
   ]
  },
  {
   "cell_type": "markdown",
   "metadata": {},
   "source": [
    "Wartości logiczne w Pythonie działają tak samo, jak w matematyce. <br>\n",
    "Można używać:\n",
    "- (<) mniej niż\n",
    "- (>) więcej niż\n",
    "- (<=) mniejsze lub równe\n",
    "- (>=) większe lub równe\n",
    "- (==) równy (pojedynczy = to przypisanie)\n",
    "- (!=) nie równe\n",
    "\n",
    "do oceny równości/nierówności.\n",
    "\n",
    "Użyj słów kluczowych, aby połączyć/zmodyfikować operatory logiczne:\n",
    "- oraz\n",
    "- lub\n",
    "- nie"
   ]
  },
  {
   "cell_type": "code",
   "execution_count": null,
   "metadata": {},
   "outputs": [],
   "source": [
    "1 < 2"
   ]
  },
  {
   "cell_type": "code",
   "execution_count": null,
   "metadata": {},
   "outputs": [],
   "source": [
    "1 >= 2"
   ]
  },
  {
   "cell_type": "code",
   "execution_count": null,
   "metadata": {},
   "outputs": [],
   "source": [
    "# i/lub dla łańcuchów porównań logicznych\n",
    "1 < 2 and 10 < 20"
   ]
  },
  {
   "cell_type": "code",
   "execution_count": null,
   "metadata": {},
   "outputs": [],
   "source": [
    "True and False"
   ]
  },
  {
   "cell_type": "code",
   "execution_count": null,
   "metadata": {},
   "outputs": [],
   "source": [
    "# i/lub dla łańcuchów porównań logicznych\n",
    "25 > 37 or 55 < 100"
   ]
  },
  {
   "cell_type": "code",
   "execution_count": null,
   "metadata": {},
   "outputs": [],
   "source": [
    "True or False"
   ]
  },
  {
   "cell_type": "code",
   "execution_count": null,
   "metadata": {},
   "outputs": [],
   "source": [
    "# użyj not, aby zwracać przeciwną wartośą logiczną\n",
    "not 100 > 1"
   ]
  },
  {
   "cell_type": "code",
   "execution_count": null,
   "metadata": {},
   "outputs": [],
   "source": [
    "# użyj słowa kluczowego in, aby sprawdzić, czy element jest iterowalny (działa również dla ciągów)\n",
    "print(\"x\" in [1,2,3])\n",
    "\n",
    "print(\"x\" in ['x','y','z'])\n",
    "\n",
    "print(\"a\" in \"a world\")"
   ]
  },
  {
   "cell_type": "code",
   "execution_count": null,
   "metadata": {},
   "outputs": [],
   "source": []
  },
  {
   "cell_type": "markdown",
   "metadata": {},
   "source": [
    "## Ćwiczenia dotyczące typów i struktur danych"
   ]
  },
  {
   "cell_type": "markdown",
   "metadata": {},
   "source": [
    "### Pytanie 1\n",
    "Wydrukuj napis Python z tego słownika:"
   ]
  },
  {
   "cell_type": "code",
   "execution_count": null,
   "metadata": {},
   "outputs": [],
   "source": [
    "d = {'start here':1,'k1':[1,2,3,{'k2':[1,2,{'k3':['keep going',{'further':[1,2,3,4,[{'k4':'python'}]]}]}]}]}"
   ]
  },
  {
   "cell_type": "code",
   "execution_count": null,
   "metadata": {},
   "outputs": [],
   "source": [
    "# CODE HERE"
   ]
  },
  {
   "cell_type": "markdown",
   "metadata": {},
   "source": [
    "### Pytanie 2:\n",
    "Utwórz zagnieżdżony słownik o nazwie sklep ze słownikami podrzędnymi o nazwach „ceny” i „rozmiary_opakowania”. <br>\n",
    "„ceny” powinny zawierać pozycje jako klucze i ceny jako wartości. <br>\n",
    "'pack_sizes' powinien zawierać elementy jako klucze i rozmiary paczek jako wartości. <br>\n",
    "\n",
    "- Pomidory kosztują 87 pensów za opakowanie 6\n",
    "- 500g cukru kosztuje 1,09 £\n",
    "- Gąbki do mycia kosztują 29 pensów za opakowanie 10\n",
    "- Sok kosztuje 1,89 £ za butelkę 1,5 l\n",
    "- Folia kosztuje 1,29 £ za 30 m rolkę\n",
    "\n",
    "Użyj tych samych klawiszy dla obu słowników podrzędnych, np. „pomidor”: 0,87 i „pomidor”: „Opakowanie 6 sztuk”. <br>\n",
    "Użyj podanej listy jako wartości dla pack_sizes (skopiuj i wklej ciągi):"
   ]
  },
  {
   "cell_type": "code",
   "execution_count": null,
   "metadata": {},
   "outputs": [],
   "source": [
    "[\"Pack of 6\", \"500g\", \"Pack of 10\", \"1.5l bottle\", \"30m roll\"]\n",
    "\n",
    "shop = {}"
   ]
  },
  {
   "cell_type": "code",
   "execution_count": null,
   "metadata": {},
   "outputs": [],
   "source": [
    "shop"
   ]
  },
  {
   "cell_type": "markdown",
   "metadata": {},
   "source": [
    "### Pytanie 3\n",
    "\n",
    "Korzystając z zagnieżdżonego słownika powyżej, znajdź cenę następującej listy zakupów:\n",
    "\n",
    "- 18 pomidorów\n",
    "- 2 paczki gąbek do prania\n",
    "- 4,5 litra soku\n",
    "- 4 rolki folii\n",
    "- 2kg cukru\n",
    "\n",
    "Zrób to w tej (dość żmudnej) kolejności:\n",
    "\n",
    "Utwórz 4 listy za pomocą indeksowania:\n",
    "- Pierwszy zawierający koszt paczki każdego elementu o nazwie „pack_cost”, indeksujący słownik „cen”.\n",
    "- Druga zawiera rozmiar paczki każdego elementu o nazwie 'pack', indeksuje słownik 'pack_sizes'.\n",
    "- Trzecia zawierająca ilości każdego przedmiotu o nazwie „quant” (stworzona dla Ciebie).\n",
    "- Czwarty zawierający koszt za opakowanie pomnożony przez ilość dla każdego elementu o nazwie „tsp”, indeksujący „koszt_jednostki” i „opakowanie”.\n",
    "\n",
    "Wydrukuj swoją odpowiedź jako zagnieżdżoną listę 4 list o nazwie porządek.\n",
    "\n",
    "Używając sum, znajdź sumę częściową (bez VAT) jako zmienną o nazwie suma_zamówienia.\n",
    "\n",
    "Znajdź sumę (z VAT) jako zmienną o nazwie order_total (VAT wynosi 20%).\n",
    "\n",
    "(Jest to bardzo żmudny sposób na zrobienie tego, ale pokaże ci, dlaczego pętle for są później bardzo przydatne)"
   ]
  },
  {
   "cell_type": "code",
   "execution_count": null,
   "metadata": {
    "scrolled": true
   },
   "outputs": [],
   "source": [
    "unit_cost = []\n",
    "\n",
    "pack = []\n",
    "\n",
    "quant = [3,4,2,3,4]\n",
    "\n",
    "tsp = []\n",
    "\n",
    "order = []\n",
    "\n",
    "order_subtotal\n",
    "\n",
    "order_total"
   ]
  },
  {
   "cell_type": "code",
   "execution_count": null,
   "metadata": {},
   "outputs": [],
   "source": [
    "print(order)"
   ]
  },
  {
   "cell_type": "code",
   "execution_count": null,
   "metadata": {},
   "outputs": [],
   "source": [
    "print(\"The subtotal is £{:4.2f}.\".format(order_subtotal))"
   ]
  },
  {
   "cell_type": "code",
   "execution_count": null,
   "metadata": {},
   "outputs": [],
   "source": [
    "print(\"The total is £{:4.2f}.\".format(order_total))"
   ]
  },
  {
   "cell_type": "code",
   "execution_count": null,
   "metadata": {},
   "outputs": [],
   "source": []
  },
  {
   "cell_type": "markdown",
   "metadata": {},
   "source": [
    "## Dalsza lektura\n",
    "- List methods: https://docs.python.org/3/tutorial/datastructures.html\n",
    "- Dictionary methods: https://docs.python.org/3/library/stdtypes.html#typesmapping\n",
    "- Built-in types: https://docs.python.org/3/library/stdtypes.html\n",
    "- Sets: https://docs.python.org/3/library/stdtypes.html#set"
   ]
  },
  {
   "cell_type": "code",
   "execution_count": null,
   "metadata": {},
   "outputs": [],
   "source": []
  }
 ],
 "metadata": {
  "kernelspec": {
   "display_name": "Python 3.8.0 64-bit",
   "language": "python",
   "name": "python3"
  },
  "language_info": {
   "codemirror_mode": {
    "name": "ipython",
    "version": 3
   },
   "file_extension": ".py",
   "mimetype": "text/x-python",
   "name": "python",
   "nbconvert_exporter": "python",
   "pygments_lexer": "ipython3",
   "version": "3.8.0"
  },
  "vscode": {
   "interpreter": {
    "hash": "07b005dcef7213d81993ddac2f687ca69d02105fee3a23ef2ff2a2e0f16121cd"
   }
  }
 },
 "nbformat": 4,
 "nbformat_minor": 2
}
