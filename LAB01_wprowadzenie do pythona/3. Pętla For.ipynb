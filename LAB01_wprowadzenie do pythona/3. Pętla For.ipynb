{
 "cells": [
  {
   "cell_type": "markdown",
   "metadata": {},
   "source": [
    "## Iteracja"
   ]
  },
  {
   "cell_type": "markdown",
   "metadata": {},
   "source": [
    "- Iterowalna: struktura danych zdolna do zwracania swoich elementów pojedynczo, np. lista, krotka, ciąg, słownik (d.keys() zwraca listę).\n",
    "- Iteracja: powtarzanie tej samej operacji (często na każdym elemencie iterowalnego).\n",
    "- np. pomnożenie każdego elementu na liście przez 2 lub pobranie indeksu 0 każdego elementu na liście ciągów."
   ]
  },
  {
   "cell_type": "markdown",
   "metadata": {},
   "source": [
    "## Pętle For"
   ]
  },
  {
   "cell_type": "markdown",
   "metadata": {},
   "source": [
    "- Zapętlanie jest przykładem iteracji, w której tę samą operację wykonujesz wielokrotnie, aż do spełnienia pewnego warunku.\n",
    "\n",
    "- Pętle For wykonują jakąś operację FOR każdy element w iterable (każdy znak w łańcuchu lub każdy element na liście itp.), aż nie będzie już więcej elementów w iterable.\n",
    "- Nazywa się to określoną iteracją: gdzie znana jest liczba iteracji.\n",
    "- To jest przykład kodowania DRY (Don't Repeat Yourself), ponieważ pojedyncza pętla for wykonuje wiele operacji za jednym razem."
   ]
  },
  {
   "cell_type": "markdown",
   "metadata": {},
   "source": [
    "### Podstawowa składnia"
   ]
  },
  {
   "cell_type": "code",
   "execution_count": null,
   "metadata": {},
   "outputs": [],
   "source": [
    "# for i in iterable:\n",
    "#     do_something\n",
    "#     do_something_to_i"
   ]
  },
  {
   "cell_type": "markdown",
   "metadata": {},
   "source": [
    "#### Możemy podzielić składnię w następujący sposób:\n",
    "- __i__ jest tutaj zmienną licznika, może to być dowolna, o ile jest spójna: najlepszą praktyką jest używanie nazw takich jak __miasto w miastach__, __element w elementach__ itd., gdzie __miasta__ lub __elementy__ to __iterowalna nazwa__ lub w przypadku jej braku, __i__, w celu czytelności.\n",
    "\n",
    "- __i__ odnosi się do każdego elementu w iteracji w danej iteracji, więc możemy użyć __i__ w bloku zrób_coś.\n",
    "\n",
    "- __in__ to __słowo kluczowe w__, wskazujące odniesienie do następującej iteracji.\n",
    "\n",
    "- __iterable__ to iterowalny element, nad którym chcemy wykonać operację, więc na przykład nazwa listy.\n",
    "\n",
    "- __dwukropek__ wskazuje przepływ sterowania i sygnalizuje wcięcie, kończąc ustawioną frazę.\n",
    "\n",
    "- Blok __do_something__ jest operacją do wykonania na każdym elemencie i tak często jest używany w tym bloku kodu, chociaż nie musi tak być."
   ]
  },
  {
   "cell_type": "markdown",
   "metadata": {},
   "source": [
    "### Przykład"
   ]
  },
  {
   "cell_type": "code",
   "execution_count": null,
   "metadata": {},
   "outputs": [],
   "source": [
    "items = [\"hat\", \"boots\", \"jacket\", \"gloves\"]\n",
    "\n",
    "for item in items:\n",
    "    print(\"thing\")\n"
   ]
  },
  {
   "cell_type": "code",
   "execution_count": null,
   "metadata": {},
   "outputs": [],
   "source": [
    "items = [\"hat\", \"boots\", \"jacket\", \"gloves\"]\n",
    "\n",
    "for item in items:\n",
    "    print(item)"
   ]
  },
  {
   "cell_type": "markdown",
   "metadata": {},
   "source": [
    "### Funckja range()"
   ]
  },
  {
   "cell_type": "code",
   "execution_count": null,
   "metadata": {},
   "outputs": [],
   "source": [
    "# for i in range(start,stop,step):\n",
    "#     do_something\n",
    "#     do_something_to_i"
   ]
  },
  {
   "cell_type": "markdown",
   "metadata": {},
   "source": [
    "- Tutaj wykonujemy operację za pomocą funkcji range(), a więc wykonujemy operację na wszystkich liczbach z podanego zakresu.\n",
    "\n",
    "- range() jest generatorem, a więc zwraca obiekt zakresu, a nie listę, ale nadal można go iterować.\n",
    "\n",
    "- Aby stworzyć listę musimy użyć list(range()).\n",
    "\n",
    "- range() przyjmuje 3 argumenty, start, stop i krok.\n",
    "\n",
    "- Jeżeli podamy __1 argument__, np. range(3), zakres domyślnie start = 0 i step = 1 i przyjmuje argument jako liczbę końcową+1, więc zakres(3) zawiera 0,1,2.\n",
    "\n",
    "- Jeśli określimy __2 argumenty__, np. zakres(5,20), pierwszy to numer początkowy, a drugi to numer stopu+1.\n",
    "\n",
    "- Jeśli określimy __3 argumenty__, trzeci to krok (przyrost), czyli np. zakres (5,10,2) zawiera 5,7,9."
   ]
  },
  {
   "cell_type": "markdown",
   "metadata": {},
   "source": [
    "### Przykład"
   ]
  },
  {
   "cell_type": "code",
   "execution_count": null,
   "metadata": {},
   "outputs": [],
   "source": [
    "for i in range(5,20,2):\n",
    "    print(i)"
   ]
  },
  {
   "cell_type": "code",
   "execution_count": null,
   "metadata": {},
   "outputs": [],
   "source": [
    "print(list(range(3)))"
   ]
  },
  {
   "cell_type": "code",
   "execution_count": null,
   "metadata": {},
   "outputs": [],
   "source": [
    "print(list(range(5,20)))"
   ]
  },
  {
   "cell_type": "code",
   "execution_count": null,
   "metadata": {},
   "outputs": [],
   "source": [
    "print(list(range(5,10,2)))"
   ]
  },
  {
   "cell_type": "markdown",
   "metadata": {},
   "source": [
    "### Zastosowanie range(len(iterable))"
   ]
  },
  {
   "cell_type": "code",
   "execution_count": null,
   "metadata": {},
   "outputs": [],
   "source": [
    "# for i in range(len(iterable)):\n",
    "#     do_something_to_iterable[i]"
   ]
  },
  {
   "cell_type": "markdown",
   "metadata": {},
   "source": [
    "- Tutaj i jest każdą liczbą w indeksie listy i możemy indeksować listę w bloku kodu, aby zmodyfikować każdy element.\n",
    "- Generalnie jest to modyfikacja list, ale może mieć inne zastosowania."
   ]
  },
  {
   "cell_type": "markdown",
   "metadata": {},
   "source": [
    "### Przykład"
   ]
  },
  {
   "cell_type": "code",
   "execution_count": null,
   "metadata": {},
   "outputs": [],
   "source": [
    "items = [\"hat\", \"boots\", \"jacket\", \"gloves\"]\n",
    "\n",
    "counter = 0\n",
    "for i in range(len(items)):\n",
    "    items[i] = items[i].upper()\n",
    "\n",
    "print(items)"
   ]
  },
  {
   "cell_type": "markdown",
   "metadata": {},
   "source": [
    "### Pakowanie i rozpakowywanie krotek"
   ]
  },
  {
   "cell_type": "markdown",
   "metadata": {},
   "source": [
    "Kilka krótkich powtórek z wykładu o typach danych:\n",
    "- Jednym z najpotężniejszych aspektów krotek jest technika zwana rozpakowywaniem krotek.\n",
    "- Używając poniższej składni przecinka, Python automatycznie wybiera elementy z krotki i przypisuje je do zmiennych.\n",
    "- Możemy to wykorzystać z pętlami for, zwłaszcza podczas iteracji przez słowniki."
   ]
  },
  {
   "cell_type": "code",
   "execution_count": null,
   "metadata": {},
   "outputs": [],
   "source": [
    "# Python here 'unpacks' the tuple automatically and picks out the values and assigns them to the comma-separated\n",
    "# variables\n",
    "a, b = (1, 2)\n",
    "\n",
    "print(a)\n",
    "print(b)"
   ]
  },
  {
   "cell_type": "markdown",
   "metadata": {},
   "source": [
    "## Pętla for ze słownikami"
   ]
  },
  {
   "cell_type": "markdown",
   "metadata": {},
   "source": [
    "Jest to możliwe na 2 sposoby:\n",
    "1. Możemy iterować przez d.keys(), ponieważ zwraca listę.\n",
    "2. Możemy użyć rozpakowywania krotek do iteracji przez d.items(), ponieważ zwraca listę sparowanych krotek.\n",
    "\n",
    "Druga metoda daje nam swobodę operowania zarówno klawiszami, jak i elementami w bardziej czytelnym formacie."
   ]
  },
  {
   "cell_type": "markdown",
   "metadata": {},
   "source": [
    "### Przykłady"
   ]
  },
  {
   "cell_type": "markdown",
   "metadata": {},
   "source": [
    "#### Method 1"
   ]
  },
  {
   "cell_type": "code",
   "execution_count": null,
   "metadata": {},
   "outputs": [],
   "source": [
    "# widzimy tutaj, że metoda .keys() zwraca listę\n",
    "prices = {\"tomato\":0.87, \"sugar\":1.09, \"sponges\":0.29, \"juice\":1.89, \"foil\":1.29}\n",
    "\n",
    "prices.keys()"
   ]
  },
  {
   "cell_type": "code",
   "execution_count": null,
   "metadata": {},
   "outputs": [],
   "source": [
    "# tutaj wybieramy klucze i pozycje ze słownika i dodajemy je do listy\n",
    "\n",
    "# inicjalizuj pustą listę\n",
    "code_list = []\n",
    "price_list = []\n",
    "\n",
    "for key in prices.keys():\n",
    "    \n",
    "    # dołącz sam klucz do code_list\n",
    "    code_list.append(key)\n",
    "    \n",
    "    # użyj klawisza, aby wybrać wartość i dołącz ją do cennika\n",
    "    price_list.append(prices[key])\n",
    "    \n",
    "print(code_list)\n",
    "print(price_list)"
   ]
  },
  {
   "cell_type": "markdown",
   "metadata": {},
   "source": [
    "#### Method 2"
   ]
  },
  {
   "cell_type": "code",
   "execution_count": null,
   "metadata": {},
   "outputs": [],
   "source": [
    "# widzimy tutaj, że metoda .items() zwraca listę sparowanych krotek\n",
    "prices.items()"
   ]
  },
  {
   "cell_type": "code",
   "execution_count": null,
   "metadata": {},
   "outputs": [],
   "source": [
    "# robimy tę samą operację, ale tym razem używając rozpakowywania krotek na d.keys\n",
    "code_list = []\n",
    "price_list = []\n",
    "\n",
    "for key, value in prices.items():\n",
    "    \n",
    "    # ta linia jest taka sama jak powyżej\n",
    "    code_list.append(key)\n",
    "    \n",
    "    # tutaj również uzyskujemy dostęp do wartości i bezpośrednio dołączamy ją do cennika\n",
    "    price_list.append(value)\n",
    "    \n",
    "print(code_list)\n",
    "print(price_list)"
   ]
  },
  {
   "cell_type": "markdown",
   "metadata": {},
   "source": [
    "Możemy również wykonać inne operacje za pomocą rozpakowywania krotek:"
   ]
  },
  {
   "cell_type": "code",
   "execution_count": null,
   "metadata": {},
   "outputs": [],
   "source": [
    "prices = {\"tomato\":0.87, \"sugar\":1.09, \"sponges\":0.29, \"juice\":1.89, \"foil\":1.29}\n",
    "\n",
    "for key, value in prices.items():\n",
    "    print(\"Item Code: {}\\nPrice: £{}\\n\".format(key,value))"
   ]
  },
  {
   "cell_type": "markdown",
   "metadata": {},
   "source": [
    "## Instrukcje If w pętlach for\n",
    "- Możemy wykorzystać przepływ sterowania w pętlach for do wykonywania różnych operacji w zależności od warunków."
   ]
  },
  {
   "cell_type": "markdown",
   "metadata": {},
   "source": [
    "### Przykład\n",
    "- Tutaj używamy przykładu kalkulatora BMI, aby zademonstrować kombinację kilku pojęć.\n",
    "- Wysokości są w metrach, a wagi w kilogramach dla ułatwienia obliczeń."
   ]
  },
  {
   "cell_type": "code",
   "execution_count": null,
   "metadata": {},
   "outputs": [],
   "source": [
    "# kodujemy listę wzrostów i wag jako listę krotek\n",
    "heights_weights = [(1.83, 85),(1.55, 61),(2.09, 135),(1.71, 70),(1.71, 95),(1.71, 55)]\n",
    "\n",
    "\n",
    "# ustawiamy bmis jako pustą listę, do której dołączamy wartości bmi\n",
    "bmis = []\n",
    "\n",
    "\n",
    "# używamy rozpakowywania krotek, aby dodać wartości bmi do bmis\n",
    "for height, weight in heights_weights:\n",
    "    bmis.append(weight/height**2)\n",
    "\n",
    "\n",
    "# tutaj wypisujemy bmis, aby wyświetlić listę pośrednią (zwykle byśmy tego nie robili)\n",
    "print(\"This is the list of BMIs: {}\\n\".format(bmis))\n",
    "\n",
    "\n",
    "# zapętlamy listę bmi, aby przypisać wartości do poprawnej wiadomości\n",
    "for bmi in bmis:\n",
    "    if bmi < 18.5:\n",
    "        print(\"You're in the underweight range. Your BMI is {:3.1f}.\".format(bmi))\n",
    "    elif bmi <= 24.9:\n",
    "        print(\"You're in the healthy weight range. Your BMI is {:3.1f}.\".format(bmi))\n",
    "    elif bmi <= 29.9:\n",
    "        print(\"You're in the overweight range. Your BMI is {:3.1f}.\".format(bmi))\n",
    "    elif bmi <= 39.9:\n",
    "        print(\"You're in the obese range. Your BMI is {:3.1f}.\".format(bmi))"
   ]
  },
  {
   "cell_type": "markdown",
   "metadata": {},
   "source": [
    "Możemy to teraz zrobić w pojedynczej pętli for:"
   ]
  },
  {
   "cell_type": "code",
   "execution_count": null,
   "metadata": {},
   "outputs": [],
   "source": [
    "heights_weights = [(1.83, 85),(1.55, 61),(2.09, 135),(1.71, 70),(1.71, 95),(1.71, 55)]\n",
    "\n",
    "for height, weight in heights_weights:\n",
    "    \n",
    "    # tutaj obliczamy bmi w pętli for przy użyciu sparowanych wartości krotek przed przekazaniem wartości bmi\n",
    "    # do kolejnych instrukcji if\n",
    "    bmi = weight/height**2\n",
    "\n",
    "    if bmi < 18.5:\n",
    "        print(\"You're in the underweight range. Your BMI is {:3.1f}\".format(bmi))\n",
    "    elif bmi <= 24.9:\n",
    "        print(\"You're in the healthy weight range. Your BMI is {:3.1f}\".format(bmi))\n",
    "    elif bmi <= 29.9:\n",
    "        print(\"You're in the overweight range. Your BMI is {:3.1f}\".format(bmi))\n",
    "    elif bmi <= 39.9:\n",
    "        print(\"You're in the obese range. Your BMI is {:3.1f}\".format(bmi))"
   ]
  },
  {
   "cell_type": "code",
   "execution_count": null,
   "metadata": {},
   "outputs": [],
   "source": []
  },
  {
   "cell_type": "markdown",
   "metadata": {},
   "source": [
    "## Ćwiczenie 1\n",
    "\n",
    "Napisz pętlę for, aby policzyć liczby parzyste i nieparzyste z zakresu od 1 do 100."
   ]
  },
  {
   "cell_type": "code",
   "execution_count": null,
   "metadata": {},
   "outputs": [],
   "source": [
    "count_odd = 0\n",
    "count_even = 0\n",
    "\n",
    "# CODE HERE\n",
    "\n",
    "print(\"Number of Even Numbers: {}\".format(count_even))\n",
    "print(\"Number of Odd Numbers: {}\".format(count_odd))"
   ]
  },
  {
   "cell_type": "code",
   "execution_count": null,
   "metadata": {},
   "outputs": [],
   "source": []
  },
  {
   "cell_type": "markdown",
   "metadata": {},
   "source": [
    "## Słowa kluczowe Pass, Break i Continue"
   ]
  },
  {
   "cell_type": "markdown",
   "metadata": {},
   "source": [
    "- Słowo kluczowe pass służy jako symbol zastępczy w pustej pętli, oznacza „nic nie rób”.\n",
    "- Używamy pass, gdy chcemy mieć pętlę (lub funkcję) w naszym kodzie, ale nie chcemy jej teraz pisać, ale nadal chcemy mieć możliwość uruchomienia reszty naszego kodu.\n",
    "- Słowo kluczowe break kończy pętlę po jej uruchomieniu.\n",
    "- Słowo kluczowe continue przesuwa się na początek najbliższej otaczającej pętli i przechodzi do następnej iteracji.\n",
    "— Zwykle używamy ich wewnątrz warunku, aby zakończyć pętlę lub pominąć iterację, gdy warunek zostanie spełniony."
   ]
  },
  {
   "cell_type": "markdown",
   "metadata": {},
   "source": [
    "### Przykłady"
   ]
  },
  {
   "cell_type": "code",
   "execution_count": null,
   "metadata": {},
   "outputs": [],
   "source": [
    "x,y = 10,5\n",
    "\n",
    "for i in range(20):\n",
    "    pass\n",
    "\n",
    "print(x,y)"
   ]
  },
  {
   "cell_type": "code",
   "execution_count": null,
   "metadata": {},
   "outputs": [],
   "source": [
    "for i in range(12):\n",
    "    if i%5 == 0:\n",
    "        continue\n",
    "    print(i)"
   ]
  },
  {
   "cell_type": "code",
   "execution_count": null,
   "metadata": {},
   "outputs": [],
   "source": [
    "for i in range(1,12):\n",
    "    if i%5 == 0:\n",
    "        break\n",
    "    else:\n",
    "        print(i)"
   ]
  },
  {
   "cell_type": "code",
   "execution_count": null,
   "metadata": {},
   "outputs": [],
   "source": []
  },
  {
   "cell_type": "markdown",
   "metadata": {},
   "source": [
    "## Ćwiczenie 2\n",
    "\n",
    "Korzystając ze słownika nazw i listy order_list pokazanych poniżej, napisz program spełniający następujące warunki:\n",
    "- Powinna generować zamówienie poprzez sekwencyjne dodawanie pozycji do paragonu z listy zamówień.\n",
    "- Przy każdej iteracji powinien drukować „Current Total: £x”\n",
    "- Jeśli wartość zamówienia przekracza wartość budżetu, należy zaprzestać dodawania pozycji i wydrukować \"Przekroczono budżet!\".\n",
    "- Jeśli nie, za każdym razem, gdy dodaje elementy, powinien:\n",
    "     - Print \"Dodanie *pełnej nazwy towaru* (ilość)\".\n",
    "     - Odejmij cenę od budżetu.\n",
    "     - Dodaj cenę do running_total.\n",
    "- Powinien wydrukować bieżącą_łączną, zamówienie i budżet sformatowane w wyciągach do wydruku (zrobione za Ciebie)."
   ]
  },
  {
   "cell_type": "code",
   "execution_count": null,
   "metadata": {},
   "outputs": [],
   "source": [
    "order_list = [(\"tom\", 0.87, 4), \n",
    "         (\"sug\", 1.09, 3), \n",
    "         (\"ws\", 0.29, 4), \n",
    "         (\"juc\", 1.89, 1), \n",
    "         (\"fo\", 1.29, 2)]\n",
    "\n",
    "names = {\"tom\":\"Tomatoes\", \n",
    "         \"sug\":\"Sugar\", \n",
    "         \"ws\":\"Washing Sponges\", \n",
    "         \"juc\":\"Juice\", \n",
    "         \"fo\":\"Foil\"}\n",
    "\n",
    "budget = 10.00\n",
    "running_total = 0\n",
    "receipt = []\n",
    "\n",
    "# CODE HERE\n",
    "        \n",
    "print(\"The total for the order is: £{:5.2f}\".format(running_total))\n",
    "print(\"The items in the order are: {}\".format(receipt))\n",
    "print(\"The remaining budget is: £{:5.2f}\".format(budget))"
   ]
  },
  {
   "cell_type": "code",
   "execution_count": null,
   "metadata": {},
   "outputs": [],
   "source": []
  },
  {
   "cell_type": "markdown",
   "metadata": {},
   "source": [
    "## Zip i Enumerate"
   ]
  },
  {
   "cell_type": "markdown",
   "metadata": {},
   "source": [
    "- Funkcja zip() łączy elementy iterowalne w krotki, ale zip jest iteratorem zwracającym obiekt zip, który następnie musi zostać przetworzony lub przekonwertowany na listę w celu wyświetlenia.\n",
    "- Można rozpakować do krotek, dodając argument * wewnątrz zip().\n",
    "- enumerate() zwraca iterator krotek zawierających (indeks,pozycja).\n",
    "- Jest to przydatne w przypadku operacji na indeksach i elementach: łączenie pętli for na iterowalnej z pętlą for na zakresie(len(iterable))."
   ]
  },
  {
   "cell_type": "markdown",
   "metadata": {},
   "source": [
    "### Przykłady"
   ]
  },
  {
   "cell_type": "code",
   "execution_count": null,
   "metadata": {},
   "outputs": [],
   "source": [
    "# zip() tworzy obiekt zip, który należy powtórzyć lub wyświetlić, aby go wyświetlić\n",
    "\n",
    "items = [\"tomato\", \"sugar\", \"sponges\", \"juice\", \"foil\"]\n",
    "prices = [0.87, 1.09, 0.29, 1.89, 1.29]\n",
    "\n",
    "items_and_prices = zip(items, prices)\n",
    "\n",
    "print(list(items_and_prices))\n"
   ]
  },
  {
   "cell_type": "code",
   "execution_count": null,
   "metadata": {},
   "outputs": [],
   "source": [
    "for item, price in zip(items, prices):\n",
    "    print(item, price)"
   ]
  },
  {
   "cell_type": "code",
   "execution_count": null,
   "metadata": {},
   "outputs": [],
   "source": [
    "# możemy rozpakować obiekt zip do krotek używając * wewnątrz wywołania zip\n",
    "\n",
    "items_and_prices = zip(items, prices) #tworzenie obiektu zip\n",
    "\n",
    "tuple_of_items, tuple_of_prices = zip(*items_and_prices) # rozpakowywanie obiektu zip\n",
    "print(tuple_of_items)\n",
    "print(tuple_of_prices)"
   ]
  },
  {
   "cell_type": "code",
   "execution_count": null,
   "metadata": {},
   "outputs": [],
   "source": [
    "# może iterować i wykonywać operacje na obiekcie zip\n",
    "\n",
    "for item, price in zip(items, prices):\n",
    "    print(\"The price of {} is £{}\".format(item, price))"
   ]
  },
  {
   "cell_type": "code",
   "execution_count": null,
   "metadata": {},
   "outputs": [],
   "source": [
    "# enumerate() podaje zarówno elementy, jak i ich indeksy, na których można operować\n",
    "\n",
    "items = [\"hat\", \"scarf\", \"coat\", \"gloves\"]\n",
    "\n",
    "\n",
    "for index, item in enumerate(items):\n",
    "    print(index, item)"
   ]
  },
  {
   "cell_type": "code",
   "execution_count": null,
   "metadata": {},
   "outputs": [],
   "source": [
    "# wyliczyć obiekty mogą być również pokazywane na listach/krotkach itp.\n",
    "print(tuple(enumerate(items)))"
   ]
  },
  {
   "cell_type": "markdown",
   "metadata": {},
   "source": [
    "## List Comprehensions"
   ]
  },
  {
   "cell_type": "markdown",
   "metadata": {},
   "source": [
    "- List comprehension to znacznie wydajniejszy sposób pisania pętli for, która generuje lub modyfikuje listę.\n",
    "- Są bardziej odpowiednie, gdy użyjemy .append() na liście wewnątrz pętli for lub będziemy iterować po indeksie listy, aby zmodyfikować każdy element, w przeciwnym razie pętla for jest lepsza.\n",
    "- Złożone pętle operujące na listach, takie jak kalkulator BMI, nie nadają się do rozumienia list: byłyby zbyt skomplikowane, aby je łatwo odczytać.\n",
    "- Są napisane w jednej linii, a składnia w porównaniu do pętli for wygląda następująco:"
   ]
  },
  {
   "cell_type": "code",
   "execution_count": null,
   "metadata": {},
   "outputs": [],
   "source": [
    "# for item in iterable:\n",
    "#     do_something\n",
    "\n",
    "# [do_something for item in iterable]"
   ]
  },
  {
   "cell_type": "markdown",
   "metadata": {},
   "source": [
    "### Przykłady"
   ]
  },
  {
   "cell_type": "markdown",
   "metadata": {},
   "source": [
    "To:"
   ]
  },
  {
   "cell_type": "code",
   "execution_count": null,
   "metadata": {},
   "outputs": [],
   "source": [
    "squares = []\n",
    "\n",
    "for i in range(0):\n",
    "    squares.append(i**2)\n",
    "\n",
    "print(squares)"
   ]
  },
  {
   "cell_type": "markdown",
   "metadata": {},
   "source": [
    "jest równoznaczne temu:"
   ]
  },
  {
   "cell_type": "code",
   "execution_count": null,
   "metadata": {},
   "outputs": [],
   "source": [
    "squares = [i**2 for i in range(10)]\n",
    "\n",
    "print(squares)"
   ]
  },
  {
   "cell_type": "markdown",
   "metadata": {},
   "source": [
    "## List Comprehensions z warunkami"
   ]
  },
  {
   "cell_type": "markdown",
   "metadata": {},
   "source": [
    "- Instrukcje warunkowe w listach składanych są 2 typów.\n",
    "- Przy dodawaniu tylko instrukcji if, warunek następuje po instrukcji for.\n",
    "- Podczas dodawania instrukcji if/else, warunek poprzedza instrukcję for."
   ]
  },
  {
   "cell_type": "markdown",
   "metadata": {},
   "source": [
    "### Przykłady"
   ]
  },
  {
   "cell_type": "markdown",
   "metadata": {},
   "source": [
    "To:"
   ]
  },
  {
   "cell_type": "code",
   "execution_count": null,
   "metadata": {},
   "outputs": [],
   "source": [
    "squared_threes = []\n",
    "\n",
    "for x in range(10):\n",
    "    if x%3 == 0:\n",
    "        squared_threes.append(x**2)\n",
    "\n",
    "print(squared_threes)"
   ]
  },
  {
   "cell_type": "markdown",
   "metadata": {},
   "source": [
    "jest równoważne temu:"
   ]
  },
  {
   "cell_type": "code",
   "execution_count": null,
   "metadata": {},
   "outputs": [],
   "source": [
    "squared_threes = [x**2 for x in range(10) if x%3==0]\n",
    "\n",
    "print(squared_threes)"
   ]
  },
  {
   "cell_type": "markdown",
   "metadata": {},
   "source": [
    "Stosowanie if/else:"
   ]
  },
  {
   "cell_type": "code",
   "execution_count": null,
   "metadata": {},
   "outputs": [],
   "source": [
    "squares_and_cubes = []\n",
    "\n",
    "for x in range(10):\n",
    "    if x%3 == 0:\n",
    "        squares_and_cubes.append(x**3)\n",
    "    else:\n",
    "        squares_and_cubes.append(x**2)\n",
    "\n",
    "print(squares_and_cubes)"
   ]
  },
  {
   "cell_type": "markdown",
   "metadata": {},
   "source": [
    "zamienia się w:"
   ]
  },
  {
   "cell_type": "code",
   "execution_count": null,
   "metadata": {},
   "outputs": [],
   "source": [
    "squares_and_cubes = [x**3 if x%3==0 else x**2 for x in range(10)]\n",
    "\n",
    "print(squares_and_cubes)"
   ]
  },
  {
   "cell_type": "markdown",
   "metadata": {},
   "source": [
    "#### UWAGA\n",
    "Listy składane z warunkami warunkowymi mogą szybko stać się nadmiernie skomplikowane i nieczytelne, a także dawać fałszywe poczucie bezpieczeństwa co do umiejętności programisty. <br>\n",
    "Często czystsze jest użycie pętli for niż skomplikowanej listy, ponieważ chociaż mogłeś napisać zgrabną jednolinijkę, będzie to po prostu mylące, gdy wrócisz do niej za 6 miesięcy. <br>\n",
    "Czytelność powinna być zawsze na pierwszym miejscu, a nie wykonywać jak najwięcej operacji w jednym wierszu."
   ]
  },
  {
   "cell_type": "code",
   "execution_count": null,
   "metadata": {},
   "outputs": [],
   "source": []
  },
  {
   "cell_type": "markdown",
   "metadata": {},
   "source": [
    "## Ćwiczenie 3\n",
    "- Utwórz list comprehension, która podnosi do kwadratu argumenty parzyste i dodaje 1 do i podnosi do kwadratu nieparzyste argumenty\n",
    "- Przetestuj na my_list"
   ]
  },
  {
   "cell_type": "code",
   "execution_count": null,
   "metadata": {},
   "outputs": [],
   "source": [
    "my_list = [34,52,71,39,22,73,92]\n",
    "\n",
    "# CODE HERE"
   ]
  },
  {
   "cell_type": "markdown",
   "metadata": {},
   "source": [
    "## Ćwiczenie 4\n",
    "Przefiltruj shop_dict za pomocą list comprehension, aby znaleźć tylko przedmioty o wartości powyżej 1,00\n",
    "\n",
    "Przypisz je do listy o nazwie filter_shop według ich pełnych nazw, a nie kodów, używając names_dict."
   ]
  },
  {
   "cell_type": "code",
   "execution_count": null,
   "metadata": {},
   "outputs": [],
   "source": [
    "shop_dict = {\"tom\":0.87,\n",
    "        \"sug\":1.09,\n",
    "        \"ws\":0.29,\n",
    "        \"cc\":1.89,\n",
    "        \"ccz\":1.29}\n",
    "\n",
    "names_dict = {\"tom\":\"Tomatoes\", \n",
    "         \"sug\":\"Sugar\", \n",
    "         \"ws\":\"Washing Sponges\", \n",
    "         \"cc\":\"Coca-Cola\", \n",
    "         \"ccz\":\"Coca-Cola Zero\"}\n",
    "\n",
    "# CODE HERE\n",
    "\n",
    "print(filtered_shop)"
   ]
  },
  {
   "cell_type": "code",
   "execution_count": null,
   "metadata": {},
   "outputs": [],
   "source": []
  },
  {
   "cell_type": "markdown",
   "metadata": {},
   "source": [
    "## Zagnieżdzone pętle For"
   ]
  },
  {
   "cell_type": "markdown",
   "metadata": {},
   "source": [
    "— Pętle for mogą być używane w ramach pętli for, znanych jako zagnieżdżone pętle for.\n",
    "- Przepływ sterowania w pętlach zagnieżdżonych oznacza, że pętla zewnętrzna wykonuje wszystkie iteracje pętli wewnętrznej na swoim pierwszym elemencie przed przejściem do następnej iteracji i powtórzeniem.\n",
    "- Istnieje również listowy odpowiednik zagnieżdżonej pętli for.\n",
    "- Ten pomysł zagnieżdżania pętli może być używany w nieskończoność (pętla for w pętli for w pętli for itp. itp.), ale poza pojedynczym zagnieżdżeniem staje się bardzo skomplikowana do odczytania i zrozumienia.\n",
    "- Należy ich unikać tam, gdzie to możliwe, ponieważ im więcej zagnieżdżeń występuje, tym mniej wydajny jest kod.\n",
    "- Jednak istnieją pewne uzasadnione przypadki ich użycia - częstym przykładem jest iteracja na wielu listach."
   ]
  },
  {
   "cell_type": "code",
   "execution_count": null,
   "metadata": {},
   "outputs": [],
   "source": [
    "# podstawowa składnia, operacje w pętli wewnętrznej są wykonywane DLA każdej operacji w pętli zewnętrznej\n",
    "for i in range(1,4):\n",
    "    print(\"Outer Loop Operation: {}\".format(i))\n",
    "    \n",
    "    for j in range(1,4):\n",
    "        print(\"Inner Loop Operation: {}\".format(j))\n",
    "    \n",
    "    print() # nowa linijka"
   ]
  },
  {
   "cell_type": "code",
   "execution_count": null,
   "metadata": {},
   "outputs": [],
   "source": [
    "#używamy countera\n",
    "mylist = []\n",
    "\n",
    "for x in [2,3,4]:\n",
    "    for y in [1,2,3]:\n",
    "        mylist.append(x**y)\n",
    "\n",
    "print(mylist)"
   ]
  },
  {
   "cell_type": "code",
   "execution_count": null,
   "metadata": {},
   "outputs": [],
   "source": [
    "# list comprehension składnia: najpierw operacja, a następnie polecenia for\n",
    "[x**y for x in [2,3,4] for y in [1,2,3]]"
   ]
  },
  {
   "cell_type": "markdown",
   "metadata": {},
   "source": [
    "## Ćwiczenie 5"
   ]
  },
  {
   "cell_type": "markdown",
   "metadata": {},
   "source": [
    "Napisz program, który wygeneruje następujący wzorzec.\n",
    "\n",
    "WSKAZÓWKA: Użyj zagnieżdżonych pętli, używając jednej zagnieżdżonej pętli, aby zwiększyć rozmiar, a drugiej, aby zmniejszyć."
   ]
  },
  {
   "cell_type": "code",
   "execution_count": null,
   "metadata": {},
   "outputs": [],
   "source": [
    "n=5\n",
    "\n",
    "# CODE HERE"
   ]
  },
  {
   "cell_type": "markdown",
   "metadata": {},
   "source": [
    "## Pytanie bonusowe"
   ]
  },
  {
   "cell_type": "markdown",
   "metadata": {},
   "source": [
    "Napisz program sprawdzający, czy każda liczba od 10 do 50 jest liczbą pierwszą\n",
    "\n",
    "Twoja odpowiedź powinna mieć następujący format:\n",
    "- \"x JEST liczbą pierwszą.\" dla liczb pierwszych\n",
    "- \"x NIE JEST liczbą pierwszą, ponieważ y jest współczynnikiem x.\" dla nie-prime\n",
    "\n",
    "WSKAZÓWKA: Jest to możliwe przy użyciu pętli while zagnieżdżonej w pętli for lub za pomocą zagnieżdżonej pętli for; jeśli możesz, spróbuj znaleźć oba."
   ]
  },
  {
   "cell_type": "code",
   "execution_count": null,
   "metadata": {},
   "outputs": [],
   "source": [
    "# CODE HERE"
   ]
  },
  {
   "cell_type": "code",
   "execution_count": null,
   "metadata": {},
   "outputs": [],
   "source": []
  },
  {
   "cell_type": "markdown",
   "metadata": {},
   "source": [
    "## Dalsza lektura\n",
    "- Ta lekcja nie wymaga dalszej lektury, proszę uważnie przejrzeć te przykłady, aby w pełni zrozumieć różnorodność zastosowań pętli for.\n",
    "- Dla tych, którzy naprawdę chcą dowiedzieć się więcej polecak książkę Learning Python autorstwa Marka Lutza: pamiętajcie, że jest to tekst referencyjny i ma ponad 1000 stron. Jest cały rozdział poświęcony pętlom for.\n",
    "- PDF z Learning Python jest dostępny tutaj: https://cfm.ehu.es/ricardo/docs/python/Learning_Python.pdf"
   ]
  },
  {
   "cell_type": "code",
   "execution_count": null,
   "metadata": {},
   "outputs": [],
   "source": []
  }
 ],
 "metadata": {
  "kernelspec": {
   "display_name": "Python 3",
   "language": "python",
   "name": "python3"
  },
  "language_info": {
   "codemirror_mode": {
    "name": "ipython",
    "version": 3
   },
   "file_extension": ".py",
   "mimetype": "text/x-python",
   "name": "python",
   "nbconvert_exporter": "python",
   "pygments_lexer": "ipython3",
   "version": "3.8.6-final"
  }
 },
 "nbformat": 4,
 "nbformat_minor": 2
}
